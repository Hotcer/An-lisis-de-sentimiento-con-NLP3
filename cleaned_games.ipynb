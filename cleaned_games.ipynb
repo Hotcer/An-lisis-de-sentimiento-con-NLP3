{
 "cells": [
  {
   "cell_type": "markdown",
   "metadata": {},
   "source": [
    "Extraccion transformacion y carga de archivo \"output_steam_games\""
   ]
  },
  {
   "cell_type": "code",
   "execution_count": 1,
   "metadata": {},
   "outputs": [],
   "source": [
    "import pandas as pd\n",
    "import json\n",
    "from collections import Counter"
   ]
  },
  {
   "cell_type": "code",
   "execution_count": 2,
   "metadata": {},
   "outputs": [],
   "source": [
    "# Leer datos de JSON e importar en dataframe\n",
    "rows = []\n",
    "\n",
    "with open('output_steam_games.json', encoding='MacRoman') as f:\n",
    "    for line in f.readlines():\n",
    "        data = json.loads(line)\n",
    "        rows.append(data)\n",
    "\n",
    "df_games = pd.DataFrame(rows)"
   ]
  },
  {
   "cell_type": "code",
   "execution_count": 3,
   "metadata": {},
   "outputs": [
    {
     "data": {
      "text/html": [
       "<div>\n",
       "<style scoped>\n",
       "    .dataframe tbody tr th:only-of-type {\n",
       "        vertical-align: middle;\n",
       "    }\n",
       "\n",
       "    .dataframe tbody tr th {\n",
       "        vertical-align: top;\n",
       "    }\n",
       "\n",
       "    .dataframe thead th {\n",
       "        text-align: right;\n",
       "    }\n",
       "</style>\n",
       "<table border=\"1\" class=\"dataframe\">\n",
       "  <thead>\n",
       "    <tr style=\"text-align: right;\">\n",
       "      <th></th>\n",
       "      <th>publisher</th>\n",
       "      <th>genres</th>\n",
       "      <th>app_name</th>\n",
       "      <th>title</th>\n",
       "      <th>url</th>\n",
       "      <th>release_date</th>\n",
       "      <th>tags</th>\n",
       "      <th>reviews_url</th>\n",
       "      <th>specs</th>\n",
       "      <th>price</th>\n",
       "      <th>early_access</th>\n",
       "      <th>id</th>\n",
       "      <th>developer</th>\n",
       "    </tr>\n",
       "  </thead>\n",
       "  <tbody>\n",
       "    <tr>\n",
       "      <th>0</th>\n",
       "      <td>NaN</td>\n",
       "      <td>NaN</td>\n",
       "      <td>NaN</td>\n",
       "      <td>NaN</td>\n",
       "      <td>NaN</td>\n",
       "      <td>NaN</td>\n",
       "      <td>NaN</td>\n",
       "      <td>NaN</td>\n",
       "      <td>NaN</td>\n",
       "      <td>NaN</td>\n",
       "      <td>NaN</td>\n",
       "      <td>NaN</td>\n",
       "      <td>NaN</td>\n",
       "    </tr>\n",
       "  </tbody>\n",
       "</table>\n",
       "</div>"
      ],
      "text/plain": [
       "  publisher genres app_name title  url release_date tags reviews_url specs  \\\n",
       "0       NaN    NaN      NaN   NaN  NaN          NaN  NaN         NaN   NaN   \n",
       "\n",
       "  price early_access   id developer  \n",
       "0   NaN          NaN  NaN       NaN  "
      ]
     },
     "execution_count": 3,
     "metadata": {},
     "output_type": "execute_result"
    }
   ],
   "source": [
    "df_games.head(1)"
   ]
  },
  {
   "cell_type": "code",
   "execution_count": 4,
   "metadata": {},
   "outputs": [
    {
     "name": "stdout",
     "output_type": "stream",
     "text": [
      "<class 'pandas.core.frame.DataFrame'>\n",
      "RangeIndex: 120445 entries, 0 to 120444\n",
      "Data columns (total 13 columns):\n",
      " #   Column        Non-Null Count  Dtype \n",
      "---  ------        --------------  ----- \n",
      " 0   publisher     24083 non-null  object\n",
      " 1   genres        28852 non-null  object\n",
      " 2   app_name      32133 non-null  object\n",
      " 3   title         30085 non-null  object\n",
      " 4   url           32135 non-null  object\n",
      " 5   release_date  30068 non-null  object\n",
      " 6   tags          31972 non-null  object\n",
      " 7   reviews_url   32133 non-null  object\n",
      " 8   specs         31465 non-null  object\n",
      " 9   price         30758 non-null  object\n",
      " 10  early_access  32135 non-null  object\n",
      " 11  id            32133 non-null  object\n",
      " 12  developer     28836 non-null  object\n",
      "dtypes: object(13)\n",
      "memory usage: 11.9+ MB\n"
     ]
    }
   ],
   "source": [
    "# Información general del DataFrame, como tipos de datos y valores faltantes\n",
    "df_games.info()"
   ]
  },
  {
   "cell_type": "code",
   "execution_count": 5,
   "metadata": {},
   "outputs": [
    {
     "data": {
      "text/plain": [
       "publisher       96362\n",
       "genres          91593\n",
       "app_name        88312\n",
       "title           90360\n",
       "url             88310\n",
       "release_date    90377\n",
       "tags            88473\n",
       "reviews_url     88312\n",
       "specs           88980\n",
       "price           89687\n",
       "early_access    88310\n",
       "id              88312\n",
       "developer       91609\n",
       "dtype: int64"
      ]
     },
     "execution_count": 5,
     "metadata": {},
     "output_type": "execute_result"
    }
   ],
   "source": [
    "# Comprobando si hay valores nulos en el DataFrame\n",
    "df_games.isnull().sum()"
   ]
  },
  {
   "cell_type": "markdown",
   "metadata": {},
   "source": [
    "Con esta funcion descubrimos que todas las columnas tienen datos mixtos"
   ]
  },
  {
   "cell_type": "code",
   "execution_count": 6,
   "metadata": {},
   "outputs": [
    {
     "name": "stdout",
     "output_type": "stream",
     "text": [
      "publisher       mixed\n",
      "genres          mixed\n",
      "app_name        mixed\n",
      "title           mixed\n",
      "url             mixed\n",
      "release_date    mixed\n",
      "tags            mixed\n",
      "reviews_url     mixed\n",
      "specs           mixed\n",
      "price           mixed\n",
      "early_access    mixed\n",
      "id              mixed\n",
      "developer       mixed\n",
      "dtype: object\n"
     ]
    }
   ],
   "source": [
    "# Definir una función para determinar el tipo de datos de una columna\n",
    "def column_type(column):\n",
    "    # Obtener los tipos de datos únicos en la columna\n",
    "    unique_types = column.apply(type).unique()\n",
    "    \n",
    "    # Si hay un solo tipo de datos, devolver ese tipo\n",
    "    if len(unique_types) == 1:\n",
    "        return unique_types[0].__name__\n",
    "    \n",
    "    # Si hay varios tipos de datos, devolver 'mixed'\n",
    "    return 'mixed'\n",
    "\n",
    "# Aplicar la función a todas las columnas del DataFrame\n",
    "result = df_games.apply(column_type, axis=0)\n",
    "\n",
    "# Mostrar el resultado\n",
    "print(result)\n"
   ]
  },
  {
   "cell_type": "markdown",
   "metadata": {},
   "source": [
    "Reemplazamos todos los NaN por 'sin datos'"
   ]
  },
  {
   "cell_type": "code",
   "execution_count": 7,
   "metadata": {},
   "outputs": [],
   "source": [
    "df_juegos = df_games.dropna(how='all')"
   ]
  },
  {
   "cell_type": "markdown",
   "metadata": {},
   "source": [
    "Se agrega la columna early_access para entrenar el modelo"
   ]
  },
  {
   "cell_type": "code",
   "execution_count": 8,
   "metadata": {},
   "outputs": [
    {
     "data": {
      "text/plain": [
       "0           NaN\n",
       "1           NaN\n",
       "2           NaN\n",
       "3           NaN\n",
       "4           NaN\n",
       "          ...  \n",
       "120440    False\n",
       "120441    False\n",
       "120442    False\n",
       "120443    False\n",
       "120444     True\n",
       "Name: early_access, Length: 120445, dtype: object"
      ]
     },
     "execution_count": 8,
     "metadata": {},
     "output_type": "execute_result"
    }
   ],
   "source": [
    "df_games['early_access']"
   ]
  },
  {
   "cell_type": "markdown",
   "metadata": {},
   "source": [
    "Eliminar las filas donde 'early_access' es NaN"
   ]
  },
  {
   "cell_type": "code",
   "execution_count": 9,
   "metadata": {},
   "outputs": [],
   "source": [
    "\n",
    "df_games.dropna(subset=['early_access'], inplace=True)"
   ]
  },
  {
   "cell_type": "markdown",
   "metadata": {},
   "source": [
    "Convierte 'True' a 1 y 'False' a 0 en la columna 'early_access' y Convierte la columna 'early_access' a tipo de datos int"
   ]
  },
  {
   "cell_type": "code",
   "execution_count": 10,
   "metadata": {},
   "outputs": [],
   "source": [
    "\n",
    "df_games['early_access'] = df_games['early_access'].map({True: 1, False: 0})\n",
    "\n",
    "# \n",
    "df_games['early_access'] = df_games['early_access'].astype(int)"
   ]
  },
  {
   "cell_type": "markdown",
   "metadata": {},
   "source": [
    "Reemplazamos todos los valores no ASCII por Unknown"
   ]
  },
  {
   "cell_type": "code",
   "execution_count": 11,
   "metadata": {},
   "outputs": [],
   "source": [
    "def replace_non_ascii_strings(df, replacement_value=\"Unknown\"):\n",
    "    # Iterar sobre todas las columnas del DataFrame\n",
    "    for column_name in df.columns:\n",
    "        # Reemplazar los valores con caracteres no ASCII por el valor de reemplazo\n",
    "        df[column_name] = df[column_name].apply(lambda x: replacement_value if isinstance(x, str) and any(ord(c) > 128 for c in x) else x)\n",
    "    \n",
    "    return df\n",
    "\n",
    "# Llamar a la función para reemplazar caracteres no ASCII en todas las columnas\n",
    "df_juegos = replace_non_ascii_strings(df_juegos, replacement_value=\"Unknown\")\n"
   ]
  },
  {
   "cell_type": "markdown",
   "metadata": {},
   "source": [
    "Procedemos averiguar que tipo de datos y que cantidad hay en cada columna"
   ]
  },
  {
   "cell_type": "code",
   "execution_count": 12,
   "metadata": {},
   "outputs": [
    {
     "name": "stdout",
     "output_type": "stream",
     "text": [
      "          Column                     Type Counts\n",
      "0      publisher   {'str': 24083, 'float': 8052}\n",
      "1         genres  {'list': 28852, 'float': 3283}\n",
      "2       app_name      {'str': 32133, 'float': 2}\n",
      "3          title   {'str': 30085, 'float': 2050}\n",
      "4            url                  {'str': 32135}\n",
      "5   release_date   {'str': 30068, 'float': 2067}\n",
      "6           tags   {'list': 31972, 'float': 163}\n",
      "7    reviews_url      {'str': 32133, 'float': 2}\n",
      "8          specs   {'list': 31465, 'float': 670}\n",
      "9          price   {'float': 30225, 'str': 1910}\n",
      "10  early_access                 {'bool': 32135}\n",
      "11            id      {'str': 32133, 'float': 2}\n",
      "12     developer   {'str': 28836, 'float': 3299}\n"
     ]
    },
    {
     "name": "stderr",
     "output_type": "stream",
     "text": [
      "C:\\Users\\Daniel\\AppData\\Local\\Temp\\ipykernel_232\\2283447455.py:3: FutureWarning: DataFrame.applymap has been deprecated. Use DataFrame.map instead.\n",
      "  type_counts = df.applymap(type).apply(lambda x: {str(k).split(\"'\")[1]: v for k, v in x.value_counts().items()})\n"
     ]
    }
   ],
   "source": [
    "def count_column_types(df):\n",
    "    # Obtener el tipo de datos de cada columna y contar sus ocurrencias\n",
    "    type_counts = df.applymap(type).apply(lambda x: {str(k).split(\"'\")[1]: v for k, v in x.value_counts().items()})\n",
    "\n",
    "    # Transponer el resultado y restablecer el índice\n",
    "    type_counts = type_counts.T.reset_index()\n",
    "\n",
    "    # Renombrar las columnas\n",
    "    type_counts.columns = ['Column', 'Type Counts']\n",
    "\n",
    "    return type_counts\n",
    "\n",
    "# Llamar a la función en un DataFrame 'df'\n",
    "result = count_column_types(df_juegos)\n",
    "\n",
    "# Mostrar el resultado\n",
    "print(result)\n",
    "\n",
    "\n",
    "\n"
   ]
  },
  {
   "cell_type": "markdown",
   "metadata": {},
   "source": [
    "eliminamos los NaN de la columna id y los pasamos a String"
   ]
  },
  {
   "cell_type": "code",
   "execution_count": 13,
   "metadata": {},
   "outputs": [],
   "source": [
    "# Eliminar NaN de la columna 'id' en df_juegos\n",
    "df_juegos['id'].fillna('', inplace=True)\n",
    "\n",
    "# Convertir todos los valores de la columna 'id' a string\n",
    "\n",
    "df_juegos['id'] = df_juegos['id'].apply(str)\n",
    "\n"
   ]
  },
  {
   "cell_type": "markdown",
   "metadata": {},
   "source": [
    "Cambiamos todos los valores flotantes a String dela columna release_date"
   ]
  },
  {
   "cell_type": "code",
   "execution_count": 14,
   "metadata": {},
   "outputs": [],
   "source": [
    "df_juegos['release_date'] = pd.to_datetime(df_juegos['release_date'], format='%Y-%m-%d', errors='coerce')"
   ]
  },
  {
   "cell_type": "markdown",
   "metadata": {},
   "source": [
    "Verificamos valores de la columna release_date"
   ]
  },
  {
   "cell_type": "code",
   "execution_count": 15,
   "metadata": {},
   "outputs": [
    {
     "name": "stdout",
     "output_type": "stream",
     "text": [
      "La columna 'release_date' está en formato de fecha válido.\n"
     ]
    }
   ],
   "source": [
    "# Define una función para verificar si una cadena está en formato de fecha\n",
    "def is_valid_date(date_str):\n",
    "    try:\n",
    "        pd.to_datetime(date_str, format='%Y-%m-%d', errors='raise')\n",
    "        return True\n",
    "    except ValueError:\n",
    "        return False\n",
    "\n",
    "# Verifica si todos los valores en la columna 'release_date' son fechas válidas\n",
    "all_dates_are_valid = df_juegos['release_date'].apply(is_valid_date).all()\n",
    "\n",
    "if all_dates_are_valid:\n",
    "    print(\"La columna 'release_date' está en formato de fecha válido.\")\n",
    "else:\n",
    "    print(\"La columna 'release_date' no está en formato de fecha válido.\")\n",
    "\n",
    "\n"
   ]
  },
  {
   "cell_type": "markdown",
   "metadata": {},
   "source": [
    "Verificamos la columna"
   ]
  },
  {
   "cell_type": "code",
   "execution_count": 16,
   "metadata": {},
   "outputs": [
    {
     "data": {
      "text/plain": [
       "88310    2018-01-04\n",
       "88311    2018-01-04\n",
       "88312    2017-07-24\n",
       "88313    2017-12-07\n",
       "88314           NaT\n",
       "            ...    \n",
       "120440   2018-01-04\n",
       "120441   2018-01-04\n",
       "120442   2018-01-04\n",
       "120443   2017-09-02\n",
       "120444          NaT\n",
       "Name: release_date, Length: 32135, dtype: datetime64[ns]"
      ]
     },
     "execution_count": 16,
     "metadata": {},
     "output_type": "execute_result"
    }
   ],
   "source": [
    "df_juegos['release_date']"
   ]
  },
  {
   "cell_type": "markdown",
   "metadata": {},
   "source": [
    "Imprimimos el df para verificar el tipo de datos"
   ]
  },
  {
   "cell_type": "code",
   "execution_count": 17,
   "metadata": {},
   "outputs": [
    {
     "name": "stdout",
     "output_type": "stream",
     "text": [
      "          Column                                        Type Counts\n",
      "0      publisher                      {'str': 24083, 'float': 8052}\n",
      "1         genres                     {'list': 28852, 'float': 3283}\n",
      "2       app_name                         {'str': 32133, 'float': 2}\n",
      "3          title                      {'str': 30085, 'float': 2050}\n",
      "4            url                                     {'str': 32135}\n",
      "5   release_date  {'pandas._libs.tslibs.timestamps.Timestamp': 2...\n",
      "6           tags                      {'list': 31972, 'float': 163}\n",
      "7    reviews_url                         {'str': 32133, 'float': 2}\n",
      "8          specs                      {'list': 31465, 'float': 670}\n",
      "9          price                      {'float': 30225, 'str': 1910}\n",
      "10  early_access                                    {'bool': 32135}\n",
      "11            id                                     {'str': 32135}\n",
      "12     developer                      {'str': 28836, 'float': 3299}\n"
     ]
    },
    {
     "name": "stderr",
     "output_type": "stream",
     "text": [
      "C:\\Users\\Daniel\\AppData\\Local\\Temp\\ipykernel_232\\3020584514.py:3: FutureWarning: DataFrame.applymap has been deprecated. Use DataFrame.map instead.\n",
      "  type_counts = df.applymap(type).apply(lambda x: {str(k).split(\"'\")[1]: v for k, v in x.value_counts().items()})\n"
     ]
    }
   ],
   "source": [
    "def count_column_types(df):\n",
    "    # Obtener el tipo de datos de cada columna y contar sus ocurrencias\n",
    "    type_counts = df.applymap(type).apply(lambda x: {str(k).split(\"'\")[1]: v for k, v in x.value_counts().items()})\n",
    "\n",
    "    # Transponer el resultado y restablecer el índice\n",
    "    type_counts = type_counts.T.reset_index()\n",
    "\n",
    "    # Renombrar las columnas\n",
    "    type_counts.columns = ['Column', 'Type Counts']\n",
    "\n",
    "    return type_counts\n",
    "\n",
    "# Llamar a la función en un DataFrame 'df'\n",
    "result = count_column_types(df_juegos)\n",
    "\n",
    "# Mostrar el resultado\n",
    "print(result)\n"
   ]
  },
  {
   "cell_type": "markdown",
   "metadata": {},
   "source": [
    "Vemos los string de la columna price"
   ]
  },
  {
   "cell_type": "code",
   "execution_count": 18,
   "metadata": {},
   "outputs": [
    {
     "name": "stdout",
     "output_type": "stream",
     "text": [
      "['Free To Play' 'Free to Play' 'Free' 'Free Demo' 'Play for Free!'\n",
      " 'Install Now' 'Play WARMACHINE: Tactics Demo' 'Free Mod' 'Install Theme'\n",
      " 'Third-party' 'Play Now' 'Unknown' 'Play the Demo' 'Starting at $499.00'\n",
      " 'Starting at $449.00' 'Free to Try' 'Free Movie' 'Free to Use']\n"
     ]
    }
   ],
   "source": [
    "# Filtrar las filas donde 'price' es de tipo cadena (string)\n",
    "strings_en_price = df_juegos[df_juegos['price'].apply(lambda x: isinstance(x, str))]\n",
    "\n",
    "# Mostrar los valores únicos de tipo cadena en la columna 'price'\n",
    "unique_strings_en_price = strings_en_price['price'].unique()\n",
    "\n",
    "# Mostrar los valores únicos\n",
    "print(unique_strings_en_price)\n"
   ]
  },
  {
   "cell_type": "markdown",
   "metadata": {},
   "source": [
    "Reemplazamos todos los string por 0"
   ]
  },
  {
   "cell_type": "code",
   "execution_count": 20,
   "metadata": {},
   "outputs": [],
   "source": [
    "# Reemplazar todos los valores de tipo cadena en la columna 'price' por 0\n",
    "df_juegos['price'] = df_juegos['price'].apply(lambda x: 0 if isinstance(x, str) else x)\n"
   ]
  },
  {
   "cell_type": "markdown",
   "metadata": {},
   "source": [
    "Pasamos la columna price en su totalidad a valores que se puedan sumar"
   ]
  },
  {
   "cell_type": "code",
   "execution_count": 21,
   "metadata": {},
   "outputs": [],
   "source": [
    "# Convierte la columna 'price' de df_games a tipo float, pero establece 'errors' en 'coerce' para manejar los valores no válidos como NaN\n",
    "df_juegos['price'] = pd.to_numeric(df_juegos['price'], errors='coerce')\n",
    "\n",
    "# Ahora puedes usar df como lo necesites\n"
   ]
  },
  {
   "cell_type": "code",
   "execution_count": 22,
   "metadata": {},
   "outputs": [
    {
     "name": "stdout",
     "output_type": "stream",
     "text": [
      "          Column                                        Type Counts\n",
      "0      publisher                      {'str': 24083, 'float': 8052}\n",
      "1         genres                     {'list': 28852, 'float': 3283}\n",
      "2       app_name                         {'str': 32133, 'float': 2}\n",
      "3          title                      {'str': 30085, 'float': 2050}\n",
      "4            url                                     {'str': 32135}\n",
      "5   release_date  {'pandas._libs.tslibs.timestamps.Timestamp': 2...\n",
      "6           tags                      {'list': 31972, 'float': 163}\n",
      "7    reviews_url                         {'str': 32133, 'float': 2}\n",
      "8          specs                      {'list': 31465, 'float': 670}\n",
      "9          price                                   {'float': 32135}\n",
      "10  early_access                                    {'bool': 32135}\n",
      "11            id                                     {'str': 32135}\n",
      "12     developer                      {'str': 28836, 'float': 3299}\n"
     ]
    },
    {
     "name": "stderr",
     "output_type": "stream",
     "text": [
      "C:\\Users\\Daniel\\AppData\\Local\\Temp\\ipykernel_232\\3020584514.py:3: FutureWarning: DataFrame.applymap has been deprecated. Use DataFrame.map instead.\n",
      "  type_counts = df.applymap(type).apply(lambda x: {str(k).split(\"'\")[1]: v for k, v in x.value_counts().items()})\n"
     ]
    }
   ],
   "source": [
    "def count_column_types(df):\n",
    "    # Obtener el tipo de datos de cada columna y contar sus ocurrencias\n",
    "    type_counts = df.applymap(type).apply(lambda x: {str(k).split(\"'\")[1]: v for k, v in x.value_counts().items()})\n",
    "\n",
    "    # Transponer el resultado y restablecer el índice\n",
    "    type_counts = type_counts.T.reset_index()\n",
    "\n",
    "    # Renombrar las columnas\n",
    "    type_counts.columns = ['Column', 'Type Counts']\n",
    "\n",
    "    return type_counts\n",
    "\n",
    "# Llamar a la función en un DataFrame 'df'\n",
    "result = count_column_types(df_juegos)\n",
    "\n",
    "# Mostrar el resultado\n",
    "print(result)\n"
   ]
  },
  {
   "cell_type": "code",
   "execution_count": 23,
   "metadata": {},
   "outputs": [
    {
     "data": {
      "text/plain": [
       "88310     4.99\n",
       "88311     0.00\n",
       "88312     0.00\n",
       "88313     0.99\n",
       "88314     2.99\n",
       "          ... \n",
       "120440    1.99\n",
       "120441    4.99\n",
       "120442    1.99\n",
       "120443    4.99\n",
       "120444    4.99\n",
       "Name: price, Length: 32135, dtype: float64"
      ]
     },
     "execution_count": 23,
     "metadata": {},
     "output_type": "execute_result"
    }
   ],
   "source": [
    "df_juegos['price']"
   ]
  },
  {
   "cell_type": "markdown",
   "metadata": {},
   "source": [
    "Reemplazar los valores NaN en la columna 'price' con 0"
   ]
  },
  {
   "cell_type": "code",
   "execution_count": 24,
   "metadata": {},
   "outputs": [],
   "source": [
    "\n",
    "# Reemplazar los valores NaN en la columna 'price' con 0\n",
    "df_juegos['price'].fillna(0, inplace=True)\n",
    "\n"
   ]
  },
  {
   "cell_type": "code",
   "execution_count": 25,
   "metadata": {},
   "outputs": [
    {
     "name": "stderr",
     "output_type": "stream",
     "text": [
      "C:\\Users\\Daniel\\AppData\\Local\\Temp\\ipykernel_232\\2838975053.py:3: FutureWarning: DataFrame.applymap has been deprecated. Use DataFrame.map instead.\n",
      "  type_counts = df.applymap(type).apply(lambda x: {str(k).split(\"'\")[1]: v for k, v in x.value_counts().items()})\n"
     ]
    },
    {
     "name": "stdout",
     "output_type": "stream",
     "text": [
      "          Column                                        Type Counts\n",
      "0      publisher                      {'str': 24083, 'float': 8052}\n",
      "1         genres                     {'list': 28852, 'float': 3283}\n",
      "2       app_name                         {'str': 32133, 'float': 2}\n",
      "3          title                      {'str': 30085, 'float': 2050}\n",
      "4            url                                     {'str': 32135}\n",
      "5   release_date  {'pandas._libs.tslibs.timestamps.Timestamp': 2...\n",
      "6           tags                      {'list': 31972, 'float': 163}\n",
      "7    reviews_url                         {'str': 32133, 'float': 2}\n",
      "8          specs                      {'list': 31465, 'float': 670}\n",
      "9          price                                   {'float': 32135}\n",
      "10  early_access                                    {'bool': 32135}\n",
      "11            id                                     {'str': 32135}\n",
      "12     developer                      {'str': 28836, 'float': 3299}\n"
     ]
    }
   ],
   "source": [
    "def count_column_types(df):\n",
    "    # Obtener el tipo de datos de cada columna y contar sus ocurrencias\n",
    "    type_counts = df.applymap(type).apply(lambda x: {str(k).split(\"'\")[1]: v for k, v in x.value_counts().items()})\n",
    "\n",
    "    # Transponer el resultado y restablecer el índice\n",
    "    type_counts = type_counts.T.reset_index()\n",
    "\n",
    "    # Renombrar las columnas\n",
    "    type_counts.columns = ['Column', 'Type Counts']\n",
    "\n",
    "    return type_counts\n",
    "\n",
    "# Llamar a la función en un DataFrame 'df'\n",
    "result = count_column_types(df_juegos)\n",
    "\n",
    "# Mostrar el resultado\n",
    "print(result)\n",
    "\n"
   ]
  },
  {
   "cell_type": "markdown",
   "metadata": {},
   "source": [
    "Hacemos lo mismo con la columna Genres"
   ]
  },
  {
   "cell_type": "code",
   "execution_count": 26,
   "metadata": {},
   "outputs": [
    {
     "name": "stdout",
     "output_type": "stream",
     "text": [
      "['Software Training', 'Audio Production', 'Free to Play', 'Photo Editing', 'Indie', 'Action', 'Strategy', 'Early Access', 'Massively Multiplayer', 'Animation &amp; Modeling', 'Racing', 'Simulation', 'Accounting', 'Education', 'Web Publishing', 'Video Production', 'RPG', 'Casual', 'Utilities', 'Design &amp; Illustration', 'Adventure', 'Sports']\n"
     ]
    }
   ],
   "source": [
    "def show_unique_values(df, column_name):\n",
    "    # Obtener todas las listas de la columna especificada y combinarlas en una lista\n",
    "    all_values = [value for sublist in df[column_name] if isinstance(sublist, list) for value in sublist]\n",
    "    \n",
    "    # Convertir los valores únicos en un conjunto para eliminar duplicados\n",
    "    unique_values_set = set(all_values)\n",
    "    \n",
    "    # Convertir el conjunto nuevamente a una lista\n",
    "    unique_values_list = list(unique_values_set)\n",
    "    \n",
    "    # Devolver el resultado\n",
    "    return unique_values_list\n",
    "\n",
    "# Llamar a la función para mostrar los valores únicos de la columna 'genres' del DataFrame 'df'\n",
    "result = show_unique_values(df_juegos, 'genres')\n",
    "\n",
    "# Mostrar el resultado\n",
    "print(result)\n"
   ]
  },
  {
   "cell_type": "markdown",
   "metadata": {},
   "source": [
    "Ahora pasamos todos los valores de genres a String"
   ]
  },
  {
   "cell_type": "code",
   "execution_count": 26,
   "metadata": {},
   "outputs": [],
   "source": [
    "df_juegos['genres'] = df_juegos['genres'].apply(str)\n",
    "\n"
   ]
  },
  {
   "cell_type": "code",
   "execution_count": 27,
   "metadata": {},
   "outputs": [
    {
     "data": {
      "text/plain": [
       "88310     ['Action', 'Casual', 'Indie', 'Simulation', 'S...\n",
       "88311          ['Free to Play', 'Indie', 'RPG', 'Strategy']\n",
       "88312     ['Casual', 'Free to Play', 'Indie', 'Simulatio...\n",
       "88313                     ['Action', 'Adventure', 'Casual']\n",
       "88314                                                   nan\n",
       "                                ...                        \n",
       "120440        ['Casual', 'Indie', 'Simulation', 'Strategy']\n",
       "120441                      ['Casual', 'Indie', 'Strategy']\n",
       "120442                    ['Indie', 'Racing', 'Simulation']\n",
       "120443                                  ['Casual', 'Indie']\n",
       "120444                                                  nan\n",
       "Name: genres, Length: 32135, dtype: object"
      ]
     },
     "execution_count": 27,
     "metadata": {},
     "output_type": "execute_result"
    }
   ],
   "source": [
    "df_juegos['genres']"
   ]
  },
  {
   "cell_type": "markdown",
   "metadata": {},
   "source": [
    "Verficamos que no haya listas en genres y que sean de tipo String"
   ]
  },
  {
   "cell_type": "code",
   "execution_count": 28,
   "metadata": {},
   "outputs": [
    {
     "name": "stdout",
     "output_type": "stream",
     "text": [
      "          Column                                        Type Counts\n",
      "0      publisher                      {'str': 24083, 'float': 8052}\n",
      "1         genres                                     {'str': 32135}\n",
      "2       app_name                         {'str': 32133, 'float': 2}\n",
      "3          title                      {'str': 30085, 'float': 2050}\n",
      "4            url                                     {'str': 32135}\n",
      "5   release_date  {'pandas._libs.tslibs.timestamps.Timestamp': 2...\n",
      "6           tags                      {'list': 31972, 'float': 163}\n",
      "7    reviews_url                         {'str': 32133, 'float': 2}\n",
      "8          specs                      {'list': 31465, 'float': 670}\n",
      "9          price                                   {'float': 32135}\n",
      "10  early_access                                    {'bool': 32135}\n",
      "11            id                                     {'str': 32135}\n",
      "12     developer                      {'str': 28836, 'float': 3299}\n"
     ]
    },
    {
     "name": "stderr",
     "output_type": "stream",
     "text": [
      "C:\\Users\\Daniel\\AppData\\Local\\Temp\\ipykernel_12788\\3020584514.py:3: FutureWarning: DataFrame.applymap has been deprecated. Use DataFrame.map instead.\n",
      "  type_counts = df.applymap(type).apply(lambda x: {str(k).split(\"'\")[1]: v for k, v in x.value_counts().items()})\n"
     ]
    }
   ],
   "source": [
    "def count_column_types(df):\n",
    "    # Obtener el tipo de datos de cada columna y contar sus ocurrencias\n",
    "    type_counts = df.applymap(type).apply(lambda x: {str(k).split(\"'\")[1]: v for k, v in x.value_counts().items()})\n",
    "\n",
    "    # Transponer el resultado y restablecer el índice\n",
    "    type_counts = type_counts.T.reset_index()\n",
    "\n",
    "    # Renombrar las columnas\n",
    "    type_counts.columns = ['Column', 'Type Counts']\n",
    "\n",
    "    return type_counts\n",
    "\n",
    "# Llamar a la función en un DataFrame 'df'\n",
    "result = count_column_types(df_juegos)\n",
    "\n",
    "# Mostrar el resultado\n",
    "print(result)\n"
   ]
  },
  {
   "cell_type": "markdown",
   "metadata": {},
   "source": [
    "Vemos el tipo de datos de la columna developer"
   ]
  },
  {
   "cell_type": "code",
   "execution_count": 29,
   "metadata": {},
   "outputs": [
    {
     "name": "stdout",
     "output_type": "stream",
     "text": [
      "['Kotoshiro' 'Secret Level SRL' 'Poolians.com' ... 'VersoVR' 'INGAME'\n",
      " 'Bidoniera Games']\n"
     ]
    }
   ],
   "source": [
    "# Obtener los valores únicos en la columna 'developer'\n",
    "valores_developer = df_juegos['developer'].unique()\n",
    "\n",
    "# Mostrar los valores únicos\n",
    "print(valores_developer)\n"
   ]
  },
  {
   "cell_type": "markdown",
   "metadata": {},
   "source": [
    "Vemos si contiene nan"
   ]
  },
  {
   "cell_type": "code",
   "execution_count": 30,
   "metadata": {},
   "outputs": [
    {
     "name": "stdout",
     "output_type": "stream",
     "text": [
      "Contiene NaN: True\n"
     ]
    }
   ],
   "source": [
    "# Verificar si la columna 'developer' contiene valores NaN\n",
    "contiene_nan = df_juegos['developer'].isnull().any()\n",
    "print(\"Contiene NaN:\", contiene_nan)\n"
   ]
  },
  {
   "cell_type": "markdown",
   "metadata": {},
   "source": [
    "Reemplazamos esos Nan por sin datos"
   ]
  },
  {
   "cell_type": "code",
   "execution_count": 31,
   "metadata": {},
   "outputs": [],
   "source": [
    "# Reemplazar los valores NaN en la columna 'developer' por \"Sin datos\"\n",
    "df_juegos['developer'].fillna(\"Sin datos\", inplace=True)\n"
   ]
  },
  {
   "cell_type": "markdown",
   "metadata": {},
   "source": [
    "Volvemo a verificar q no tenga Nan"
   ]
  },
  {
   "cell_type": "code",
   "execution_count": 32,
   "metadata": {},
   "outputs": [
    {
     "name": "stdout",
     "output_type": "stream",
     "text": [
      "Contiene NaN: False\n"
     ]
    }
   ],
   "source": [
    "# Verificar si la columna 'developer' contiene valores NaN\n",
    "contiene_nan = df_juegos['developer'].isnull().any()\n",
    "print(\"Contiene NaN:\", contiene_nan)"
   ]
  },
  {
   "cell_type": "markdown",
   "metadata": {},
   "source": [
    "Pasamos los valores float que tenia id a string"
   ]
  },
  {
   "cell_type": "code",
   "execution_count": 33,
   "metadata": {},
   "outputs": [],
   "source": [
    "# Convertir los valores de tipo float en la columna 'id' a cadenas (strings)\n",
    "df_juegos['id'] = df_juegos['id'].astype(str)"
   ]
  },
  {
   "cell_type": "markdown",
   "metadata": {},
   "source": [
    "Verificamos que solo sea de numeros la columna id"
   ]
  },
  {
   "cell_type": "code",
   "execution_count": 34,
   "metadata": {},
   "outputs": [
    {
     "name": "stdout",
     "output_type": "stream",
     "text": [
      "Valores en la columna 'id' que contienen letras:\n",
      "Empty DataFrame\n",
      "Columns: [publisher, genres, app_name, title, url, release_date, tags, reviews_url, specs, price, early_access, id, developer]\n",
      "Index: []\n"
     ]
    }
   ],
   "source": [
    "import pandas as pd\n",
    "import re\n",
    "\n",
    "# Crear una función para verificar si una cadena contiene solo letras\n",
    "def contiene_letras(cadena):\n",
    "    return bool(re.search('[a-zA-Z]', cadena))\n",
    "\n",
    "# Verificar si hay valores en la columna 'id' que contienen solo letras\n",
    "valores_con_letras = df_juegos['id'].apply(lambda x: contiene_letras(x) if isinstance(x, str) and 'id' in x else False)\n",
    "\n",
    "# Mostrar los valores que contienen letras en la columna 'id'\n",
    "valores_letras_id = df_juegos[valores_con_letras]\n",
    "\n",
    "# Mostrar los resultados\n",
    "print(\"Valores en la columna 'id' que contienen letras:\")\n",
    "print(valores_letras_id)\n",
    "\n"
   ]
  },
  {
   "cell_type": "markdown",
   "metadata": {},
   "source": [
    "Sacamos los valores de listas"
   ]
  },
  {
   "cell_type": "code",
   "execution_count": 35,
   "metadata": {},
   "outputs": [
    {
     "name": "stdout",
     "output_type": "stream",
     "text": [
      "88310        Action, Casual, Indie, Simulation, Strategy\n",
      "88311                 Free to Play, Indie, RPG, Strategy\n",
      "88312    Casual, Free to Play, Indie, Simulation, Sports\n",
      "88313                          Action, Adventure, Casual\n",
      "88314                                                nan\n",
      "Name: genres, dtype: object\n"
     ]
    }
   ],
   "source": [
    "# Reemplazar los corchetes y comillas simples y dividir los géneros por comas\n",
    "df_juegos['genres'] = df_juegos['genres'].apply(lambda x: ', '.join(x.strip(\"[]\").replace(\"'\", \"\").split(', ')))\n",
    "\n",
    "# Verificar los primeros registros para asegurarse de que se formateó correctamente\n",
    "print(df_juegos['genres'].head())\n"
   ]
  },
  {
   "cell_type": "code",
   "execution_count": 36,
   "metadata": {},
   "outputs": [],
   "source": [
    "df_juegos['id'] = df_juegos['id'].apply(lambda x: ', '.join(x.strip(\"[]\").replace(\"'\", \"\").split(', ')))\n"
   ]
  },
  {
   "cell_type": "code",
   "execution_count": 37,
   "metadata": {},
   "outputs": [
    {
     "data": {
      "text/plain": [
       "88310         [Strategy, Action, Indie, Casual, Simulation]\n",
       "88311     [Free to Play, Strategy, Indie, RPG, Card Game...\n",
       "88312     [Free to Play, Simulation, Sports, Casual, Ind...\n",
       "88313                           [Action, Adventure, Casual]\n",
       "88314                       [Action, Indie, Casual, Sports]\n",
       "                                ...                        \n",
       "120440                [Strategy, Indie, Casual, Simulation]\n",
       "120441                            [Strategy, Indie, Casual]\n",
       "120442                          [Indie, Simulation, Racing]\n",
       "120443    [Indie, Casual, Puzzle, Singleplayer, Atmosphe...\n",
       "120444    [Early Access, Adventure, Indie, Action, Simul...\n",
       "Name: tags, Length: 32135, dtype: object"
      ]
     },
     "execution_count": 37,
     "metadata": {},
     "output_type": "execute_result"
    }
   ],
   "source": [
    "df_juegos['tags']"
   ]
  },
  {
   "cell_type": "markdown",
   "metadata": {},
   "source": [
    "Se limpia la columna tags para el modelo machine learning"
   ]
  },
  {
   "cell_type": "code",
   "execution_count": 38,
   "metadata": {},
   "outputs": [
    {
     "name": "stdout",
     "output_type": "stream",
     "text": [
      "88310          Strategy, Action, Indie, Casual, Simulation\n",
      "88311    Free to Play, Strategy, Indie, RPG, Card Game,...\n",
      "88312    Free to Play, Simulation, Sports, Casual, Indi...\n",
      "88313                            Action, Adventure, Casual\n",
      "88314                        Action, Indie, Casual, Sports\n",
      "Name: tags, dtype: object\n"
     ]
    }
   ],
   "source": [
    "df_juegos['tags'] = df_juegos['tags'].fillna('').apply(lambda x: ', '.join(map(str, x)))\n",
    "\n",
    "# Verificar los primeros registros para asegurarse de que se formateó correctamente\n",
    "print(df_juegos['tags'].head())"
   ]
  },
  {
   "cell_type": "markdown",
   "metadata": {},
   "source": [
    "Se limpia la columna specs para el modelo machine learning"
   ]
  },
  {
   "cell_type": "code",
   "execution_count": 39,
   "metadata": {},
   "outputs": [
    {
     "name": "stdout",
     "output_type": "stream",
     "text": [
      "88310                                        Single-player\n",
      "88311    Single-player, Multi-player, Online Multi-Play...\n",
      "88312    Single-player, Multi-player, Online Multi-Play...\n",
      "88313                                        Single-player\n",
      "88314    Single-player, Full controller support, HTC Vi...\n",
      "Name: specs, dtype: object\n"
     ]
    }
   ],
   "source": [
    "df_juegos['specs'] = df_juegos['specs'].fillna('').apply(lambda x: ', '.join(map(str, x)))\n",
    "\n",
    "# Verificar los primeros registros para asegurarse de que se formateó correctamente\n",
    "print(df_juegos['specs'].head())"
   ]
  },
  {
   "cell_type": "markdown",
   "metadata": {},
   "source": [
    "Creamos una copia del df con las columnas limpias"
   ]
  },
  {
   "cell_type": "code",
   "execution_count": 41,
   "metadata": {},
   "outputs": [],
   "source": [
    "# Crear una copia del DataFrame con las columnas específicas\n",
    "df_games_copia = df_juegos[['genres', 'release_date', 'price', 'developer', 'id']].copy()"
   ]
  },
  {
   "cell_type": "markdown",
   "metadata": {},
   "source": [
    "Se crea otro df para el modelo"
   ]
  },
  {
   "cell_type": "code",
   "execution_count": 42,
   "metadata": {},
   "outputs": [],
   "source": [
    "\n",
    "columnas_deseadas = ['genres', 'tags', 'specs']\n",
    "df_games_model = df_juegos[columnas_deseadas].copy()\n"
   ]
  },
  {
   "cell_type": "markdown",
   "metadata": {},
   "source": [
    "Eliminamos las filas que no tengan datos entre las 5 columnas limpias"
   ]
  },
  {
   "cell_type": "code",
   "execution_count": 43,
   "metadata": {},
   "outputs": [],
   "source": [
    "\n",
    "# Convertir la columna 'price' a tipo numérico\n",
    "df_games_copia['price'] = pd.to_numeric(df_games_copia['price'], errors='coerce')\n",
    "\n",
    "# Eliminar las filas que cumplan con las condiciones especificadas\n",
    "df_games_copia = df_games_copia[~((df_games_copia['developer'] == 'Sin datos') |\n",
    "                                  (df_games_copia['release_date'].isna()) |\n",
    "                                  (df_games_copia['genres'].isna()))]\n",
    "\n"
   ]
  },
  {
   "cell_type": "code",
   "execution_count": 44,
   "metadata": {},
   "outputs": [
    {
     "data": {
      "text/html": [
       "<div>\n",
       "<style scoped>\n",
       "    .dataframe tbody tr th:only-of-type {\n",
       "        vertical-align: middle;\n",
       "    }\n",
       "\n",
       "    .dataframe tbody tr th {\n",
       "        vertical-align: top;\n",
       "    }\n",
       "\n",
       "    .dataframe thead th {\n",
       "        text-align: right;\n",
       "    }\n",
       "</style>\n",
       "<table border=\"1\" class=\"dataframe\">\n",
       "  <thead>\n",
       "    <tr style=\"text-align: right;\">\n",
       "      <th></th>\n",
       "      <th>genres</th>\n",
       "      <th>release_date</th>\n",
       "      <th>price</th>\n",
       "      <th>developer</th>\n",
       "      <th>id</th>\n",
       "    </tr>\n",
       "  </thead>\n",
       "  <tbody>\n",
       "    <tr>\n",
       "      <th>88310</th>\n",
       "      <td>Action, Casual, Indie, Simulation, Strategy</td>\n",
       "      <td>2018-01-04</td>\n",
       "      <td>4.99</td>\n",
       "      <td>Kotoshiro</td>\n",
       "      <td>761140</td>\n",
       "    </tr>\n",
       "    <tr>\n",
       "      <th>88311</th>\n",
       "      <td>Free to Play, Indie, RPG, Strategy</td>\n",
       "      <td>2018-01-04</td>\n",
       "      <td>0.00</td>\n",
       "      <td>Secret Level SRL</td>\n",
       "      <td>643980</td>\n",
       "    </tr>\n",
       "    <tr>\n",
       "      <th>88312</th>\n",
       "      <td>Casual, Free to Play, Indie, Simulation, Sports</td>\n",
       "      <td>2017-07-24</td>\n",
       "      <td>0.00</td>\n",
       "      <td>Poolians.com</td>\n",
       "      <td>670290</td>\n",
       "    </tr>\n",
       "    <tr>\n",
       "      <th>88313</th>\n",
       "      <td>Action, Adventure, Casual</td>\n",
       "      <td>2017-12-07</td>\n",
       "      <td>0.99</td>\n",
       "      <td>Unknown</td>\n",
       "      <td>767400</td>\n",
       "    </tr>\n",
       "    <tr>\n",
       "      <th>88315</th>\n",
       "      <td>Action, Adventure, Simulation</td>\n",
       "      <td>2018-01-04</td>\n",
       "      <td>3.99</td>\n",
       "      <td>Trickjump Games Ltd</td>\n",
       "      <td>772540</td>\n",
       "    </tr>\n",
       "    <tr>\n",
       "      <th>...</th>\n",
       "      <td>...</td>\n",
       "      <td>...</td>\n",
       "      <td>...</td>\n",
       "      <td>...</td>\n",
       "      <td>...</td>\n",
       "    </tr>\n",
       "    <tr>\n",
       "      <th>120439</th>\n",
       "      <td>Action, Adventure, Casual, Indie</td>\n",
       "      <td>2018-01-04</td>\n",
       "      <td>1.99</td>\n",
       "      <td>Bidoniera Games</td>\n",
       "      <td>745400</td>\n",
       "    </tr>\n",
       "    <tr>\n",
       "      <th>120440</th>\n",
       "      <td>Casual, Indie, Simulation, Strategy</td>\n",
       "      <td>2018-01-04</td>\n",
       "      <td>1.99</td>\n",
       "      <td>Nikita \"Ghost_RUS\"</td>\n",
       "      <td>773640</td>\n",
       "    </tr>\n",
       "    <tr>\n",
       "      <th>120441</th>\n",
       "      <td>Casual, Indie, Strategy</td>\n",
       "      <td>2018-01-04</td>\n",
       "      <td>4.99</td>\n",
       "      <td>Sacada</td>\n",
       "      <td>733530</td>\n",
       "    </tr>\n",
       "    <tr>\n",
       "      <th>120442</th>\n",
       "      <td>Indie, Racing, Simulation</td>\n",
       "      <td>2018-01-04</td>\n",
       "      <td>1.99</td>\n",
       "      <td>Laush Dmitriy Sergeevich</td>\n",
       "      <td>610660</td>\n",
       "    </tr>\n",
       "    <tr>\n",
       "      <th>120443</th>\n",
       "      <td>Casual, Indie</td>\n",
       "      <td>2017-09-02</td>\n",
       "      <td>4.99</td>\n",
       "      <td>xropi,stev3ns</td>\n",
       "      <td>658870</td>\n",
       "    </tr>\n",
       "  </tbody>\n",
       "</table>\n",
       "<p>28533 rows × 5 columns</p>\n",
       "</div>"
      ],
      "text/plain": [
       "                                                 genres release_date  price  \\\n",
       "88310       Action, Casual, Indie, Simulation, Strategy   2018-01-04   4.99   \n",
       "88311                Free to Play, Indie, RPG, Strategy   2018-01-04   0.00   \n",
       "88312   Casual, Free to Play, Indie, Simulation, Sports   2017-07-24   0.00   \n",
       "88313                         Action, Adventure, Casual   2017-12-07   0.99   \n",
       "88315                     Action, Adventure, Simulation   2018-01-04   3.99   \n",
       "...                                                 ...          ...    ...   \n",
       "120439                 Action, Adventure, Casual, Indie   2018-01-04   1.99   \n",
       "120440              Casual, Indie, Simulation, Strategy   2018-01-04   1.99   \n",
       "120441                          Casual, Indie, Strategy   2018-01-04   4.99   \n",
       "120442                        Indie, Racing, Simulation   2018-01-04   1.99   \n",
       "120443                                    Casual, Indie   2017-09-02   4.99   \n",
       "\n",
       "                       developer      id  \n",
       "88310                  Kotoshiro  761140  \n",
       "88311           Secret Level SRL  643980  \n",
       "88312               Poolians.com  670290  \n",
       "88313                    Unknown  767400  \n",
       "88315        Trickjump Games Ltd  772540  \n",
       "...                          ...     ...  \n",
       "120439           Bidoniera Games  745400  \n",
       "120440        Nikita \"Ghost_RUS\"  773640  \n",
       "120441                    Sacada  733530  \n",
       "120442  Laush Dmitriy Sergeevich  610660  \n",
       "120443             xropi,stev3ns  658870  \n",
       "\n",
       "[28533 rows x 5 columns]"
      ]
     },
     "execution_count": 44,
     "metadata": {},
     "output_type": "execute_result"
    }
   ],
   "source": [
    "df_games_copia"
   ]
  },
  {
   "cell_type": "code",
   "execution_count": 45,
   "metadata": {},
   "outputs": [
    {
     "name": "stdout",
     "output_type": "stream",
     "text": [
      "<class 'pandas.core.frame.DataFrame'>\n",
      "Index: 28533 entries, 88310 to 120443\n",
      "Data columns (total 5 columns):\n",
      " #   Column        Non-Null Count  Dtype         \n",
      "---  ------        --------------  -----         \n",
      " 0   genres        28533 non-null  object        \n",
      " 1   release_date  28533 non-null  datetime64[ns]\n",
      " 2   price         28533 non-null  float64       \n",
      " 3   developer     28533 non-null  object        \n",
      " 4   id            28533 non-null  object        \n",
      "dtypes: datetime64[ns](1), float64(1), object(3)\n",
      "memory usage: 1.3+ MB\n"
     ]
    }
   ],
   "source": [
    "df_games_copia.info()"
   ]
  },
  {
   "cell_type": "markdown",
   "metadata": {},
   "source": [
    "Terminamos la limpieza"
   ]
  },
  {
   "cell_type": "markdown",
   "metadata": {},
   "source": [
    "Lo guardamos como archivo parques"
   ]
  },
  {
   "cell_type": "code",
   "execution_count": 47,
   "metadata": {},
   "outputs": [],
   "source": [
    "df_games_copia.to_pickle('games.pkl')"
   ]
  },
  {
   "cell_type": "code",
   "execution_count": 50,
   "metadata": {},
   "outputs": [
    {
     "name": "stdout",
     "output_type": "stream",
     "text": [
      "<class 'pandas.core.frame.DataFrame'>\n",
      "Index: 32135 entries, 88310 to 120444\n",
      "Data columns (total 3 columns):\n",
      " #   Column  Non-Null Count  Dtype \n",
      "---  ------  --------------  ----- \n",
      " 0   genres  32135 non-null  object\n",
      " 1   tags    32135 non-null  object\n",
      " 2   specs   32135 non-null  object\n",
      "dtypes: object(3)\n",
      "memory usage: 1004.2+ KB\n"
     ]
    }
   ],
   "source": [
    "df_games_model.info()"
   ]
  },
  {
   "cell_type": "markdown",
   "metadata": {},
   "source": [
    "# Probamos las funciones"
   ]
  },
  {
   "cell_type": "code",
   "execution_count": 41,
   "metadata": {},
   "outputs": [],
   "source": [
    "import pandas as pd\n",
    "# Importar el archivo 'reviews.pkl' en formato Pickle\n",
    "df_reviews = pd.read_pickle('reviews.pkl')\n",
    "\n",
    "# Importar el archivo 'items.pkl' en formato Pickle\n",
    "df_items = pd.read_pickle('playtime.pkl')\n",
    "\n",
    "# Importar el archivo 'games.pkl' en formato Pickle\n",
    "df_games = pd.read_pickle('games.pkl')\n",
    "\n",
    "\n"
   ]
  },
  {
   "cell_type": "markdown",
   "metadata": {},
   "source": [
    "Probamos userdata"
   ]
  },
  {
   "cell_type": "code",
   "execution_count": 42,
   "metadata": {
    "vscode": {
     "languageId": "ruby"
    }
   },
   "outputs": [],
   "source": [
    "def userdata(user_id, df_reviews, df_games):\n",
    "    # Filtrar las revisiones del usuario en particular\n",
    "    user_reviews = df_reviews[df_reviews['user_id'] == user_id]\n",
    "\n",
    "    # Calcular la cantidad de dinero gastado por el usuario\n",
    "    money_spent = user_reviews['item_id'].apply(lambda x: df_games[df_games['id'] == x]['price'].values[0] if x in df_games['id'].values else 0).sum()\n",
    "\n",
    "    # Filtrar las revisiones del mismo \"item_id\"\n",
    "    item_reviews = df_reviews[df_reviews['item_id'].isin(user_reviews['item_id'])]\n",
    "\n",
    "    # Calcular el porcentaje de recomendación en base a las revisiones de todos los usuarios del mismo \"item_id\"\n",
    "    total_reviews = len(item_reviews)\n",
    "    positive_reviews = (item_reviews['recommend'] == 'True').sum()\n",
    "    \n",
    "    if total_reviews > 0:\n",
    "        recommendation_percentage = (positive_reviews / total_reviews) * 100\n",
    "    else:\n",
    "        recommendation_percentage = 0\n",
    "\n",
    "    # Obtener la cantidad de elementos revisados\n",
    "    total_items_reviewed = total_reviews\n",
    "\n",
    "    return money_spent, recommendation_percentage, total_items_reviewed\n",
    "\n"
   ]
  },
  {
   "cell_type": "code",
   "execution_count": 43,
   "metadata": {},
   "outputs": [
    {
     "name": "stdout",
     "output_type": "stream",
     "text": [
      "Usuario js41637:\n",
      "Dinero gastado: $29.98\n",
      "Porcentaje de recomendación: 0.00%\n",
      "Total de elementos revisados: 195\n"
     ]
    }
   ],
   "source": [
    "user_id = 'js41637'  # Reemplaza con un ID de usuario válido\n",
    "money_spent, recommendation_percentage, total_items_reviewed = userdata(user_id, df_reviews, df_games)\n",
    "\n",
    "# Imprimir los resultados\n",
    "print(f\"Usuario {user_id}:\")\n",
    "print(f\"Dinero gastado: ${money_spent:.2f}\")\n",
    "print(f\"Porcentaje de recomendación: {recommendation_percentage:.2f}%\")\n",
    "print(f\"Total de elementos revisados: {total_items_reviewed}\")"
   ]
  },
  {
   "cell_type": "code",
   "execution_count": 44,
   "metadata": {},
   "outputs": [
    {
     "name": "stdout",
     "output_type": "stream",
     "text": [
      "Usuarios con recomendaciones en sus revisiones:\n",
      "['76561197970982479' 'js41637' 'evcentric' 'doctr' 'maplemage' 'Wackky'\n",
      " '76561198079601835' 'MeaTCompany' '76561198089393905' '76561198156664158']\n"
     ]
    }
   ],
   "source": [
    "# Filtrar las revisiones que tienen recomendaciones (recommend = True)\n",
    "users_with_recommendations = df_reviews[df_reviews['recommend'] == True]['user_id'].unique()\n",
    "\n",
    "# Mostrar algunos de los usuarios que tienen recomendaciones\n",
    "print(\"Usuarios con recomendaciones en sus revisiones:\")\n",
    "print(users_with_recommendations[:10])  # Mostrar los primeros 10 usuarios con recomendaciones\n"
   ]
  },
  {
   "cell_type": "markdown",
   "metadata": {},
   "source": [
    "Seleccionamos uno de estos usuarios al azar y calculamos su porcentaje de recomendación:"
   ]
  },
  {
   "cell_type": "code",
   "execution_count": 45,
   "metadata": {},
   "outputs": [
    {
     "name": "stdout",
     "output_type": "stream",
     "text": [
      "Usuario seleccionado al azar con recomendaciones: 76561198058782320\n",
      "Usuario 76561198058782320:\n",
      "Dinero gastado: $14.99\n",
      "Porcentaje de recomendación: 0.00%\n",
      "Total de elementos revisados: 41\n"
     ]
    }
   ],
   "source": [
    "import random\n",
    "\n",
    "# Seleccionar un usuario al azar de la lista de usuarios con recomendaciones\n",
    "random_user_with_recommendations = random.choice(users_with_recommendations)\n",
    "\n",
    "# Mostrar el ID del usuario seleccionado al azar\n",
    "print(f\"Usuario seleccionado al azar con recomendaciones: {random_user_with_recommendations}\")\n",
    "\n",
    "# Calcular el porcentaje de recomendación para el usuario seleccionado\n",
    "money_spent, recommendation_percentage, total_items_reviewed = userdata(random_user_with_recommendations, df_reviews, df_games)\n",
    "\n",
    "# Imprimir los resultados\n",
    "print(f\"Usuario {random_user_with_recommendations}:\")\n",
    "print(f\"Dinero gastado: ${money_spent:.2f}\")\n",
    "print(f\"Porcentaje de recomendación: {recommendation_percentage:.2f}%\")\n",
    "print(f\"Total de elementos revisados: {total_items_reviewed}\")\n"
   ]
  },
  {
   "cell_type": "markdown",
   "metadata": {},
   "source": [
    "Segunda funcion"
   ]
  },
  {
   "cell_type": "code",
   "execution_count": 46,
   "metadata": {},
   "outputs": [
    {
     "name": "stdout",
     "output_type": "stream",
     "text": [
      "Cantidad de usuarios que realizaron reseñas: 2167\n",
      "Porcentaje de recomendación: 98.16%\n"
     ]
    }
   ],
   "source": [
    "def count_reviews_between_dates(df, start_date, end_date):\n",
    "    # Convierte las fechas dadas a objetos datetime\n",
    "    start_date = pd.to_datetime(start_date)\n",
    "    end_date = pd.to_datetime(end_date)\n",
    "\n",
    "    # Filtra las reseñas que están dentro del rango de fechas\n",
    "    filtered_reviews = df[(df['posted'] >= start_date) & (df['posted'] <= end_date)]\n",
    "\n",
    "    # Calcula la cantidad de usuarios que realizaron reseñas\n",
    "    total_users = len(filtered_reviews['user_id'].unique())\n",
    "\n",
    "    # Calcula el porcentaje de recomendación\n",
    "    recommend_percentage = (filtered_reviews['recommend'].astype(int).sum() / len(filtered_reviews)) * 100\n",
    "\n",
    "    return total_users, recommend_percentage\n",
    "\n",
    "# Ejemplo de uso\n",
    "# Reemplaza 'df_reviews' con tu DataFrame de reseñas y proporciona las fechas deseadas\n",
    "start_date = '2011-11-05'\n",
    "end_date = '2013-09-08'\n",
    "total_users, recommend_percentage = count_reviews_between_dates(df_reviews, start_date, end_date)\n",
    "\n",
    "print(f'Cantidad de usuarios que realizaron reseñas: {total_users}')\n",
    "print(f'Porcentaje de recomendación: {recommend_percentage:.2f}%')\n"
   ]
  },
  {
   "cell_type": "markdown",
   "metadata": {},
   "source": [
    "Tercera funcion"
   ]
  },
  {
   "cell_type": "code",
   "execution_count": 12,
   "metadata": {},
   "outputs": [
    {
     "name": "stdout",
     "output_type": "stream",
     "text": [
      "El género 'Casual' ocupa el puesto No encontrado en el ranking de PlayTimeForever.\n"
     ]
    }
   ],
   "source": [
    "def genre(género: str):\n",
    "    # Filtrar df_games para obtener solo los juegos del género especificado\n",
    "    games_by_genre = df_games[df_games['genres'].str.contains(género, case=False)]\n",
    "    \n",
    "    # Unir df_items con games_by_genre para obtener información de playtime\n",
    "    merged_df = df_items.merge(games_by_genre, left_on='user_id', right_on='id', how='inner')\n",
    "    \n",
    "    # Calcular la suma del playtime para cada juego\n",
    "    playtime_sum = merged_df.groupby('id')['playtime'].sum().reset_index()\n",
    "    \n",
    "    # Ordenar el DataFrame por PlayTimeForever en orden descendente\n",
    "    playtime_sum_sorted = playtime_sum.sort_values(by='playtime', ascending=False)\n",
    "    \n",
    "    # Encontrar el índice del juego de género específico en el ranking\n",
    "    index_of_genre = playtime_sum_sorted[playtime_sum_sorted['id'] == género].index\n",
    "    \n",
    "    # Devolver el puesto (indice + 1) si se encuentra, de lo contrario, devolver \"No encontrado\"\n",
    "    if not index_of_genre.empty:\n",
    "        return index_of_genre[0] + 1\n",
    "    else:\n",
    "        return \"No encontrado\"\n",
    "\n",
    "# Ejemplo de uso para encontrar el puesto del género \"Aventura\"\n",
    "puesto = genre(\"Action\")\n",
    "print(f\"El género 'Casual' ocupa el puesto {puesto} en el ranking de PlayTimeForever.\")\n",
    "\n",
    "\n"
   ]
  },
  {
   "cell_type": "code",
   "execution_count": 47,
   "metadata": {},
   "outputs": [
    {
     "ename": "TypeError",
     "evalue": "unhashable type: 'list'",
     "output_type": "error",
     "traceback": [
      "\u001b[1;31m---------------------------------------------------------------------------\u001b[0m",
      "\u001b[1;31mTypeError\u001b[0m                                 Traceback (most recent call last)",
      "Cell \u001b[1;32mIn[47], line 35\u001b[0m\n\u001b[0;32m     32\u001b[0m     \u001b[39mreturn\u001b[39;00m result\n\u001b[0;32m     34\u001b[0m \u001b[39m# Ejemplo de uso para encontrar el puesto del género \"Action\"\u001b[39;00m\n\u001b[1;32m---> 35\u001b[0m puestos \u001b[39m=\u001b[39m genre([\u001b[39m\"\u001b[39;49m\u001b[39mAction\u001b[39;49m\u001b[39m\"\u001b[39;49m, \u001b[39m\"\u001b[39;49m\u001b[39mAdventure\u001b[39;49m\u001b[39m\"\u001b[39;49m])\n\u001b[0;32m     36\u001b[0m \u001b[39mprint\u001b[39m(\u001b[39m\"\u001b[39m\u001b[39mPuestos de género:\u001b[39m\u001b[39m\"\u001b[39m)\n\u001b[0;32m     37\u001b[0m \u001b[39mfor\u001b[39;00m g, puesto \u001b[39min\u001b[39;00m puestos\u001b[39m.\u001b[39mitems():\n",
      "Cell \u001b[1;32mIn[47], line 9\u001b[0m, in \u001b[0;36mgenre\u001b[1;34m(género)\u001b[0m\n\u001b[0;32m      6\u001b[0m     género \u001b[39m=\u001b[39m [género]\n\u001b[0;32m      8\u001b[0m \u001b[39m# Unir df_games y df_items en df_merged\u001b[39;00m\n\u001b[1;32m----> 9\u001b[0m df_merged \u001b[39m=\u001b[39m df_games\u001b[39m.\u001b[39;49mmerge(df_items, left_on\u001b[39m=\u001b[39;49m\u001b[39m'\u001b[39;49m\u001b[39mid\u001b[39;49m\u001b[39m'\u001b[39;49m, right_on\u001b[39m=\u001b[39;49m\u001b[39m'\u001b[39;49m\u001b[39mitem_id\u001b[39;49m\u001b[39m'\u001b[39;49m)\n\u001b[0;32m     11\u001b[0m \u001b[39m# Unir df_merged y df_reviews en df_final\u001b[39;00m\n\u001b[0;32m     12\u001b[0m df_final \u001b[39m=\u001b[39m df_merged\u001b[39m.\u001b[39mmerge(df_reviews, left_on\u001b[39m=\u001b[39m\u001b[39m'\u001b[39m\u001b[39mid\u001b[39m\u001b[39m'\u001b[39m, right_on\u001b[39m=\u001b[39m\u001b[39m'\u001b[39m\u001b[39mitem_id\u001b[39m\u001b[39m'\u001b[39m)\n",
      "File \u001b[1;32m~\\AppData\\Local\\Packages\\PythonSoftwareFoundation.Python.3.10_qbz5n2kfra8p0\\LocalCache\\local-packages\\Python310\\site-packages\\pandas\\core\\frame.py:10490\u001b[0m, in \u001b[0;36mDataFrame.merge\u001b[1;34m(self, right, how, on, left_on, right_on, left_index, right_index, sort, suffixes, copy, indicator, validate)\u001b[0m\n\u001b[0;32m  10471\u001b[0m \u001b[39m@Substitution\u001b[39m(\u001b[39m\"\u001b[39m\u001b[39m\"\u001b[39m)\n\u001b[0;32m  10472\u001b[0m \u001b[39m@Appender\u001b[39m(_merge_doc, indents\u001b[39m=\u001b[39m\u001b[39m2\u001b[39m)\n\u001b[0;32m  10473\u001b[0m \u001b[39mdef\u001b[39;00m \u001b[39mmerge\u001b[39m(\n\u001b[1;32m   (...)\u001b[0m\n\u001b[0;32m  10486\u001b[0m     validate: MergeValidate \u001b[39m|\u001b[39m \u001b[39mNone\u001b[39;00m \u001b[39m=\u001b[39m \u001b[39mNone\u001b[39;00m,\n\u001b[0;32m  10487\u001b[0m ) \u001b[39m-\u001b[39m\u001b[39m>\u001b[39m DataFrame:\n\u001b[0;32m  10488\u001b[0m     \u001b[39mfrom\u001b[39;00m \u001b[39mpandas\u001b[39;00m\u001b[39m.\u001b[39;00m\u001b[39mcore\u001b[39;00m\u001b[39m.\u001b[39;00m\u001b[39mreshape\u001b[39;00m\u001b[39m.\u001b[39;00m\u001b[39mmerge\u001b[39;00m \u001b[39mimport\u001b[39;00m merge\n\u001b[1;32m> 10490\u001b[0m     \u001b[39mreturn\u001b[39;00m merge(\n\u001b[0;32m  10491\u001b[0m         \u001b[39mself\u001b[39;49m,\n\u001b[0;32m  10492\u001b[0m         right,\n\u001b[0;32m  10493\u001b[0m         how\u001b[39m=\u001b[39;49mhow,\n\u001b[0;32m  10494\u001b[0m         on\u001b[39m=\u001b[39;49mon,\n\u001b[0;32m  10495\u001b[0m         left_on\u001b[39m=\u001b[39;49mleft_on,\n\u001b[0;32m  10496\u001b[0m         right_on\u001b[39m=\u001b[39;49mright_on,\n\u001b[0;32m  10497\u001b[0m         left_index\u001b[39m=\u001b[39;49mleft_index,\n\u001b[0;32m  10498\u001b[0m         right_index\u001b[39m=\u001b[39;49mright_index,\n\u001b[0;32m  10499\u001b[0m         sort\u001b[39m=\u001b[39;49msort,\n\u001b[0;32m  10500\u001b[0m         suffixes\u001b[39m=\u001b[39;49msuffixes,\n\u001b[0;32m  10501\u001b[0m         copy\u001b[39m=\u001b[39;49mcopy,\n\u001b[0;32m  10502\u001b[0m         indicator\u001b[39m=\u001b[39;49mindicator,\n\u001b[0;32m  10503\u001b[0m         validate\u001b[39m=\u001b[39;49mvalidate,\n\u001b[0;32m  10504\u001b[0m     )\n",
      "File \u001b[1;32m~\\AppData\\Local\\Packages\\PythonSoftwareFoundation.Python.3.10_qbz5n2kfra8p0\\LocalCache\\local-packages\\Python310\\site-packages\\pandas\\core\\reshape\\merge.py:183\u001b[0m, in \u001b[0;36mmerge\u001b[1;34m(left, right, how, on, left_on, right_on, left_index, right_index, sort, suffixes, copy, indicator, validate)\u001b[0m\n\u001b[0;32m    168\u001b[0m \u001b[39melse\u001b[39;00m:\n\u001b[0;32m    169\u001b[0m     op \u001b[39m=\u001b[39m _MergeOperation(\n\u001b[0;32m    170\u001b[0m         left_df,\n\u001b[0;32m    171\u001b[0m         right_df,\n\u001b[1;32m   (...)\u001b[0m\n\u001b[0;32m    181\u001b[0m         validate\u001b[39m=\u001b[39mvalidate,\n\u001b[0;32m    182\u001b[0m     )\n\u001b[1;32m--> 183\u001b[0m     \u001b[39mreturn\u001b[39;00m op\u001b[39m.\u001b[39;49mget_result(copy\u001b[39m=\u001b[39;49mcopy)\n",
      "File \u001b[1;32m~\\AppData\\Local\\Packages\\PythonSoftwareFoundation.Python.3.10_qbz5n2kfra8p0\\LocalCache\\local-packages\\Python310\\site-packages\\pandas\\core\\reshape\\merge.py:883\u001b[0m, in \u001b[0;36m_MergeOperation.get_result\u001b[1;34m(self, copy)\u001b[0m\n\u001b[0;32m    880\u001b[0m \u001b[39mif\u001b[39;00m \u001b[39mself\u001b[39m\u001b[39m.\u001b[39mindicator:\n\u001b[0;32m    881\u001b[0m     \u001b[39mself\u001b[39m\u001b[39m.\u001b[39mleft, \u001b[39mself\u001b[39m\u001b[39m.\u001b[39mright \u001b[39m=\u001b[39m \u001b[39mself\u001b[39m\u001b[39m.\u001b[39m_indicator_pre_merge(\u001b[39mself\u001b[39m\u001b[39m.\u001b[39mleft, \u001b[39mself\u001b[39m\u001b[39m.\u001b[39mright)\n\u001b[1;32m--> 883\u001b[0m join_index, left_indexer, right_indexer \u001b[39m=\u001b[39m \u001b[39mself\u001b[39;49m\u001b[39m.\u001b[39;49m_get_join_info()\n\u001b[0;32m    885\u001b[0m result \u001b[39m=\u001b[39m \u001b[39mself\u001b[39m\u001b[39m.\u001b[39m_reindex_and_concat(\n\u001b[0;32m    886\u001b[0m     join_index, left_indexer, right_indexer, copy\u001b[39m=\u001b[39mcopy\n\u001b[0;32m    887\u001b[0m )\n\u001b[0;32m    888\u001b[0m result \u001b[39m=\u001b[39m result\u001b[39m.\u001b[39m__finalize__(\u001b[39mself\u001b[39m, method\u001b[39m=\u001b[39m\u001b[39mself\u001b[39m\u001b[39m.\u001b[39m_merge_type)\n",
      "File \u001b[1;32m~\\AppData\\Local\\Packages\\PythonSoftwareFoundation.Python.3.10_qbz5n2kfra8p0\\LocalCache\\local-packages\\Python310\\site-packages\\pandas\\core\\reshape\\merge.py:1133\u001b[0m, in \u001b[0;36m_MergeOperation._get_join_info\u001b[1;34m(self)\u001b[0m\n\u001b[0;32m   1129\u001b[0m     join_index, right_indexer, left_indexer \u001b[39m=\u001b[39m _left_join_on_index(\n\u001b[0;32m   1130\u001b[0m         right_ax, left_ax, \u001b[39mself\u001b[39m\u001b[39m.\u001b[39mright_join_keys, sort\u001b[39m=\u001b[39m\u001b[39mself\u001b[39m\u001b[39m.\u001b[39msort\n\u001b[0;32m   1131\u001b[0m     )\n\u001b[0;32m   1132\u001b[0m \u001b[39melse\u001b[39;00m:\n\u001b[1;32m-> 1133\u001b[0m     (left_indexer, right_indexer) \u001b[39m=\u001b[39m \u001b[39mself\u001b[39;49m\u001b[39m.\u001b[39;49m_get_join_indexers()\n\u001b[0;32m   1135\u001b[0m     \u001b[39mif\u001b[39;00m \u001b[39mself\u001b[39m\u001b[39m.\u001b[39mright_index:\n\u001b[0;32m   1136\u001b[0m         \u001b[39mif\u001b[39;00m \u001b[39mlen\u001b[39m(\u001b[39mself\u001b[39m\u001b[39m.\u001b[39mleft) \u001b[39m>\u001b[39m \u001b[39m0\u001b[39m:\n",
      "File \u001b[1;32m~\\AppData\\Local\\Packages\\PythonSoftwareFoundation.Python.3.10_qbz5n2kfra8p0\\LocalCache\\local-packages\\Python310\\site-packages\\pandas\\core\\reshape\\merge.py:1105\u001b[0m, in \u001b[0;36m_MergeOperation._get_join_indexers\u001b[1;34m(self)\u001b[0m\n\u001b[0;32m   1103\u001b[0m \u001b[39mdef\u001b[39;00m \u001b[39m_get_join_indexers\u001b[39m(\u001b[39mself\u001b[39m) \u001b[39m-\u001b[39m\u001b[39m>\u001b[39m \u001b[39mtuple\u001b[39m[npt\u001b[39m.\u001b[39mNDArray[np\u001b[39m.\u001b[39mintp], npt\u001b[39m.\u001b[39mNDArray[np\u001b[39m.\u001b[39mintp]]:\n\u001b[0;32m   1104\u001b[0m \u001b[39m    \u001b[39m\u001b[39m\"\"\"return the join indexers\"\"\"\u001b[39;00m\n\u001b[1;32m-> 1105\u001b[0m     \u001b[39mreturn\u001b[39;00m get_join_indexers(\n\u001b[0;32m   1106\u001b[0m         \u001b[39mself\u001b[39;49m\u001b[39m.\u001b[39;49mleft_join_keys, \u001b[39mself\u001b[39;49m\u001b[39m.\u001b[39;49mright_join_keys, sort\u001b[39m=\u001b[39;49m\u001b[39mself\u001b[39;49m\u001b[39m.\u001b[39;49msort, how\u001b[39m=\u001b[39;49m\u001b[39mself\u001b[39;49m\u001b[39m.\u001b[39;49mhow\n\u001b[0;32m   1107\u001b[0m     )\n",
      "File \u001b[1;32m~\\AppData\\Local\\Packages\\PythonSoftwareFoundation.Python.3.10_qbz5n2kfra8p0\\LocalCache\\local-packages\\Python310\\site-packages\\pandas\\core\\reshape\\merge.py:1703\u001b[0m, in \u001b[0;36mget_join_indexers\u001b[1;34m(left_keys, right_keys, sort, how)\u001b[0m\n\u001b[0;32m   1698\u001b[0m \u001b[39m# get left & right join labels and num. of levels at each location\u001b[39;00m\n\u001b[0;32m   1699\u001b[0m mapped \u001b[39m=\u001b[39m (\n\u001b[0;32m   1700\u001b[0m     _factorize_keys(left_keys[n], right_keys[n], sort\u001b[39m=\u001b[39msort, how\u001b[39m=\u001b[39mhow)\n\u001b[0;32m   1701\u001b[0m     \u001b[39mfor\u001b[39;00m n \u001b[39min\u001b[39;00m \u001b[39mrange\u001b[39m(\u001b[39mlen\u001b[39m(left_keys))\n\u001b[0;32m   1702\u001b[0m )\n\u001b[1;32m-> 1703\u001b[0m zipped \u001b[39m=\u001b[39m \u001b[39mzip\u001b[39;49m(\u001b[39m*\u001b[39;49mmapped)\n\u001b[0;32m   1704\u001b[0m llab, rlab, shape \u001b[39m=\u001b[39m (\u001b[39mlist\u001b[39m(x) \u001b[39mfor\u001b[39;00m x \u001b[39min\u001b[39;00m zipped)\n\u001b[0;32m   1706\u001b[0m \u001b[39m# get flat i8 keys from label lists\u001b[39;00m\n",
      "File \u001b[1;32m~\\AppData\\Local\\Packages\\PythonSoftwareFoundation.Python.3.10_qbz5n2kfra8p0\\LocalCache\\local-packages\\Python310\\site-packages\\pandas\\core\\reshape\\merge.py:1700\u001b[0m, in \u001b[0;36m<genexpr>\u001b[1;34m(.0)\u001b[0m\n\u001b[0;32m   1696\u001b[0m         \u001b[39mreturn\u001b[39;00m _get_no_sort_one_missing_indexer(left_n, \u001b[39mFalse\u001b[39;00m)\n\u001b[0;32m   1698\u001b[0m \u001b[39m# get left & right join labels and num. of levels at each location\u001b[39;00m\n\u001b[0;32m   1699\u001b[0m mapped \u001b[39m=\u001b[39m (\n\u001b[1;32m-> 1700\u001b[0m     _factorize_keys(left_keys[n], right_keys[n], sort\u001b[39m=\u001b[39;49msort, how\u001b[39m=\u001b[39;49mhow)\n\u001b[0;32m   1701\u001b[0m     \u001b[39mfor\u001b[39;00m n \u001b[39min\u001b[39;00m \u001b[39mrange\u001b[39m(\u001b[39mlen\u001b[39m(left_keys))\n\u001b[0;32m   1702\u001b[0m )\n\u001b[0;32m   1703\u001b[0m zipped \u001b[39m=\u001b[39m \u001b[39mzip\u001b[39m(\u001b[39m*\u001b[39mmapped)\n\u001b[0;32m   1704\u001b[0m llab, rlab, shape \u001b[39m=\u001b[39m (\u001b[39mlist\u001b[39m(x) \u001b[39mfor\u001b[39;00m x \u001b[39min\u001b[39;00m zipped)\n",
      "File \u001b[1;32m~\\AppData\\Local\\Packages\\PythonSoftwareFoundation.Python.3.10_qbz5n2kfra8p0\\LocalCache\\local-packages\\Python310\\site-packages\\pandas\\core\\reshape\\merge.py:2489\u001b[0m, in \u001b[0;36m_factorize_keys\u001b[1;34m(lk, rk, sort, how)\u001b[0m\n\u001b[0;32m   2484\u001b[0m \u001b[39melse\u001b[39;00m:\n\u001b[0;32m   2485\u001b[0m     \u001b[39m# Argument 1 to \"factorize\" of \"ObjectFactorizer\" has incompatible type\u001b[39;00m\n\u001b[0;32m   2486\u001b[0m     \u001b[39m# \"Union[ndarray[Any, dtype[signedinteger[_64Bit]]],\u001b[39;00m\n\u001b[0;32m   2487\u001b[0m     \u001b[39m# ndarray[Any, dtype[object_]]]\"; expected \"ndarray[Any, dtype[object_]]\"\u001b[39;00m\n\u001b[0;32m   2488\u001b[0m     llab \u001b[39m=\u001b[39m rizer\u001b[39m.\u001b[39mfactorize(lk)  \u001b[39m# type: ignore[arg-type]\u001b[39;00m\n\u001b[1;32m-> 2489\u001b[0m     rlab \u001b[39m=\u001b[39m rizer\u001b[39m.\u001b[39;49mfactorize(rk)  \u001b[39m# type: ignore[arg-type]\u001b[39;00m\n\u001b[0;32m   2490\u001b[0m \u001b[39massert\u001b[39;00m llab\u001b[39m.\u001b[39mdtype \u001b[39m==\u001b[39m np\u001b[39m.\u001b[39mdtype(np\u001b[39m.\u001b[39mintp), llab\u001b[39m.\u001b[39mdtype\n\u001b[0;32m   2491\u001b[0m \u001b[39massert\u001b[39;00m rlab\u001b[39m.\u001b[39mdtype \u001b[39m==\u001b[39m np\u001b[39m.\u001b[39mdtype(np\u001b[39m.\u001b[39mintp), rlab\u001b[39m.\u001b[39mdtype\n",
      "File \u001b[1;32mhashtable.pyx:122\u001b[0m, in \u001b[0;36mpandas._libs.hashtable.ObjectFactorizer.factorize\u001b[1;34m()\u001b[0m\n",
      "File \u001b[1;32mpandas\\_libs\\hashtable_class_helper.pxi:7288\u001b[0m, in \u001b[0;36mpandas._libs.hashtable.PyObjectHashTable.get_labels\u001b[1;34m()\u001b[0m\n",
      "File \u001b[1;32mpandas\\_libs\\hashtable_class_helper.pxi:7194\u001b[0m, in \u001b[0;36mpandas._libs.hashtable.PyObjectHashTable._unique\u001b[1;34m()\u001b[0m\n",
      "\u001b[1;31mTypeError\u001b[0m: unhashable type: 'list'"
     ]
    }
   ],
   "source": [
    "import pandas as pd\n",
    "\n",
    "def genre(género):\n",
    "    # Convertir el género ingresado en una lista si no lo es\n",
    "    if not isinstance(género, list):\n",
    "        género = [género]\n",
    "\n",
    "    # Unir df_games y df_items en df_merged\n",
    "    df_merged = df_games.merge(df_items, left_on='id', right_on='item_id')\n",
    "\n",
    "    # Unir df_merged y df_reviews en df_final\n",
    "    df_final = df_merged.merge(df_reviews, left_on='id', right_on='item_id')\n",
    "\n",
    "    # Filtrar las filas que coincidan con los géneros especificados\n",
    "    df_filtered = df_final[df_final['genres'].apply(lambda x: any(g in x for g in género))]\n",
    "\n",
    "    # Agrupar por género y sumar el playtime\n",
    "    df_playtime = df_filtered.groupby('genres')['playtime'].sum().reset_index()\n",
    "\n",
    "    # Ordenar por playtime descendente\n",
    "    df_playtime = df_playtime.sort_values('playtime', ascending=False)\n",
    "\n",
    "    # Encontrar la posición del género\n",
    "    result = {}\n",
    "    for g in género:\n",
    "        row = df_playtime[df_playtime['genres'].str.contains(g, case=False)]\n",
    "        if not row.empty:\n",
    "            result[g] = row.index[0] + 1\n",
    "        else:\n",
    "            result[g] = 'No encontrado'\n",
    "\n",
    "    return result\n",
    "\n",
    "# Ejemplo de uso para encontrar el puesto del género \"Action\"\n",
    "puestos = genre([\"Action\", \"Adventure\"])\n",
    "print(\"Puestos de género:\")\n",
    "for g, puesto in puestos.items():\n",
    "    print(f\"El género '{g}' ocupa el puesto {puesto} en el ranking de PlayTimeForever.\")\n"
   ]
  },
  {
   "cell_type": "code",
   "execution_count": 20,
   "metadata": {},
   "outputs": [
    {
     "ename": "TypeError",
     "evalue": "unhashable type: 'list'",
     "output_type": "error",
     "traceback": [
      "\u001b[1;31m---------------------------------------------------------------------------\u001b[0m",
      "\u001b[1;31mTypeError\u001b[0m                                 Traceback (most recent call last)",
      "Cell \u001b[1;32mIn[20], line 1\u001b[0m\n\u001b[1;32m----> 1\u001b[0m puesto \u001b[39m=\u001b[39m genre(\u001b[39m'\u001b[39;49m\u001b[39mAction\u001b[39;49m\u001b[39m'\u001b[39;49m) \n\u001b[0;32m      2\u001b[0m \u001b[39mprint\u001b[39m(puesto)\n",
      "Cell \u001b[1;32mIn[19], line 9\u001b[0m, in \u001b[0;36mgenre\u001b[1;34m(género)\u001b[0m\n\u001b[0;32m      6\u001b[0m     género \u001b[39m=\u001b[39m [género]\n\u001b[0;32m      8\u001b[0m \u001b[39m# Unir df_games y df_items en df_merged\u001b[39;00m\n\u001b[1;32m----> 9\u001b[0m df_merged \u001b[39m=\u001b[39m df_games\u001b[39m.\u001b[39;49mmerge(df_items, left_on\u001b[39m=\u001b[39;49m\u001b[39m'\u001b[39;49m\u001b[39mid\u001b[39;49m\u001b[39m'\u001b[39;49m, right_on\u001b[39m=\u001b[39;49m\u001b[39m'\u001b[39;49m\u001b[39mitem_id\u001b[39;49m\u001b[39m'\u001b[39;49m)\n\u001b[0;32m     11\u001b[0m \u001b[39m# Unir df_merged y df_reviews en df_final\u001b[39;00m\n\u001b[0;32m     12\u001b[0m df_final \u001b[39m=\u001b[39m df_merged\u001b[39m.\u001b[39mmerge(df_reviews, left_on\u001b[39m=\u001b[39m\u001b[39m'\u001b[39m\u001b[39mid\u001b[39m\u001b[39m'\u001b[39m, right_on\u001b[39m=\u001b[39m\u001b[39m'\u001b[39m\u001b[39mitem_id\u001b[39m\u001b[39m'\u001b[39m)\n",
      "File \u001b[1;32m~\\AppData\\Local\\Packages\\PythonSoftwareFoundation.Python.3.10_qbz5n2kfra8p0\\LocalCache\\local-packages\\Python310\\site-packages\\pandas\\core\\frame.py:10490\u001b[0m, in \u001b[0;36mDataFrame.merge\u001b[1;34m(self, right, how, on, left_on, right_on, left_index, right_index, sort, suffixes, copy, indicator, validate)\u001b[0m\n\u001b[0;32m  10471\u001b[0m \u001b[39m@Substitution\u001b[39m(\u001b[39m\"\u001b[39m\u001b[39m\"\u001b[39m)\n\u001b[0;32m  10472\u001b[0m \u001b[39m@Appender\u001b[39m(_merge_doc, indents\u001b[39m=\u001b[39m\u001b[39m2\u001b[39m)\n\u001b[0;32m  10473\u001b[0m \u001b[39mdef\u001b[39;00m \u001b[39mmerge\u001b[39m(\n\u001b[1;32m   (...)\u001b[0m\n\u001b[0;32m  10486\u001b[0m     validate: MergeValidate \u001b[39m|\u001b[39m \u001b[39mNone\u001b[39;00m \u001b[39m=\u001b[39m \u001b[39mNone\u001b[39;00m,\n\u001b[0;32m  10487\u001b[0m ) \u001b[39m-\u001b[39m\u001b[39m>\u001b[39m DataFrame:\n\u001b[0;32m  10488\u001b[0m     \u001b[39mfrom\u001b[39;00m \u001b[39mpandas\u001b[39;00m\u001b[39m.\u001b[39;00m\u001b[39mcore\u001b[39;00m\u001b[39m.\u001b[39;00m\u001b[39mreshape\u001b[39;00m\u001b[39m.\u001b[39;00m\u001b[39mmerge\u001b[39;00m \u001b[39mimport\u001b[39;00m merge\n\u001b[1;32m> 10490\u001b[0m     \u001b[39mreturn\u001b[39;00m merge(\n\u001b[0;32m  10491\u001b[0m         \u001b[39mself\u001b[39;49m,\n\u001b[0;32m  10492\u001b[0m         right,\n\u001b[0;32m  10493\u001b[0m         how\u001b[39m=\u001b[39;49mhow,\n\u001b[0;32m  10494\u001b[0m         on\u001b[39m=\u001b[39;49mon,\n\u001b[0;32m  10495\u001b[0m         left_on\u001b[39m=\u001b[39;49mleft_on,\n\u001b[0;32m  10496\u001b[0m         right_on\u001b[39m=\u001b[39;49mright_on,\n\u001b[0;32m  10497\u001b[0m         left_index\u001b[39m=\u001b[39;49mleft_index,\n\u001b[0;32m  10498\u001b[0m         right_index\u001b[39m=\u001b[39;49mright_index,\n\u001b[0;32m  10499\u001b[0m         sort\u001b[39m=\u001b[39;49msort,\n\u001b[0;32m  10500\u001b[0m         suffixes\u001b[39m=\u001b[39;49msuffixes,\n\u001b[0;32m  10501\u001b[0m         copy\u001b[39m=\u001b[39;49mcopy,\n\u001b[0;32m  10502\u001b[0m         indicator\u001b[39m=\u001b[39;49mindicator,\n\u001b[0;32m  10503\u001b[0m         validate\u001b[39m=\u001b[39;49mvalidate,\n\u001b[0;32m  10504\u001b[0m     )\n",
      "File \u001b[1;32m~\\AppData\\Local\\Packages\\PythonSoftwareFoundation.Python.3.10_qbz5n2kfra8p0\\LocalCache\\local-packages\\Python310\\site-packages\\pandas\\core\\reshape\\merge.py:183\u001b[0m, in \u001b[0;36mmerge\u001b[1;34m(left, right, how, on, left_on, right_on, left_index, right_index, sort, suffixes, copy, indicator, validate)\u001b[0m\n\u001b[0;32m    168\u001b[0m \u001b[39melse\u001b[39;00m:\n\u001b[0;32m    169\u001b[0m     op \u001b[39m=\u001b[39m _MergeOperation(\n\u001b[0;32m    170\u001b[0m         left_df,\n\u001b[0;32m    171\u001b[0m         right_df,\n\u001b[1;32m   (...)\u001b[0m\n\u001b[0;32m    181\u001b[0m         validate\u001b[39m=\u001b[39mvalidate,\n\u001b[0;32m    182\u001b[0m     )\n\u001b[1;32m--> 183\u001b[0m     \u001b[39mreturn\u001b[39;00m op\u001b[39m.\u001b[39;49mget_result(copy\u001b[39m=\u001b[39;49mcopy)\n",
      "File \u001b[1;32m~\\AppData\\Local\\Packages\\PythonSoftwareFoundation.Python.3.10_qbz5n2kfra8p0\\LocalCache\\local-packages\\Python310\\site-packages\\pandas\\core\\reshape\\merge.py:883\u001b[0m, in \u001b[0;36m_MergeOperation.get_result\u001b[1;34m(self, copy)\u001b[0m\n\u001b[0;32m    880\u001b[0m \u001b[39mif\u001b[39;00m \u001b[39mself\u001b[39m\u001b[39m.\u001b[39mindicator:\n\u001b[0;32m    881\u001b[0m     \u001b[39mself\u001b[39m\u001b[39m.\u001b[39mleft, \u001b[39mself\u001b[39m\u001b[39m.\u001b[39mright \u001b[39m=\u001b[39m \u001b[39mself\u001b[39m\u001b[39m.\u001b[39m_indicator_pre_merge(\u001b[39mself\u001b[39m\u001b[39m.\u001b[39mleft, \u001b[39mself\u001b[39m\u001b[39m.\u001b[39mright)\n\u001b[1;32m--> 883\u001b[0m join_index, left_indexer, right_indexer \u001b[39m=\u001b[39m \u001b[39mself\u001b[39;49m\u001b[39m.\u001b[39;49m_get_join_info()\n\u001b[0;32m    885\u001b[0m result \u001b[39m=\u001b[39m \u001b[39mself\u001b[39m\u001b[39m.\u001b[39m_reindex_and_concat(\n\u001b[0;32m    886\u001b[0m     join_index, left_indexer, right_indexer, copy\u001b[39m=\u001b[39mcopy\n\u001b[0;32m    887\u001b[0m )\n\u001b[0;32m    888\u001b[0m result \u001b[39m=\u001b[39m result\u001b[39m.\u001b[39m__finalize__(\u001b[39mself\u001b[39m, method\u001b[39m=\u001b[39m\u001b[39mself\u001b[39m\u001b[39m.\u001b[39m_merge_type)\n",
      "File \u001b[1;32m~\\AppData\\Local\\Packages\\PythonSoftwareFoundation.Python.3.10_qbz5n2kfra8p0\\LocalCache\\local-packages\\Python310\\site-packages\\pandas\\core\\reshape\\merge.py:1133\u001b[0m, in \u001b[0;36m_MergeOperation._get_join_info\u001b[1;34m(self)\u001b[0m\n\u001b[0;32m   1129\u001b[0m     join_index, right_indexer, left_indexer \u001b[39m=\u001b[39m _left_join_on_index(\n\u001b[0;32m   1130\u001b[0m         right_ax, left_ax, \u001b[39mself\u001b[39m\u001b[39m.\u001b[39mright_join_keys, sort\u001b[39m=\u001b[39m\u001b[39mself\u001b[39m\u001b[39m.\u001b[39msort\n\u001b[0;32m   1131\u001b[0m     )\n\u001b[0;32m   1132\u001b[0m \u001b[39melse\u001b[39;00m:\n\u001b[1;32m-> 1133\u001b[0m     (left_indexer, right_indexer) \u001b[39m=\u001b[39m \u001b[39mself\u001b[39;49m\u001b[39m.\u001b[39;49m_get_join_indexers()\n\u001b[0;32m   1135\u001b[0m     \u001b[39mif\u001b[39;00m \u001b[39mself\u001b[39m\u001b[39m.\u001b[39mright_index:\n\u001b[0;32m   1136\u001b[0m         \u001b[39mif\u001b[39;00m \u001b[39mlen\u001b[39m(\u001b[39mself\u001b[39m\u001b[39m.\u001b[39mleft) \u001b[39m>\u001b[39m \u001b[39m0\u001b[39m:\n",
      "File \u001b[1;32m~\\AppData\\Local\\Packages\\PythonSoftwareFoundation.Python.3.10_qbz5n2kfra8p0\\LocalCache\\local-packages\\Python310\\site-packages\\pandas\\core\\reshape\\merge.py:1105\u001b[0m, in \u001b[0;36m_MergeOperation._get_join_indexers\u001b[1;34m(self)\u001b[0m\n\u001b[0;32m   1103\u001b[0m \u001b[39mdef\u001b[39;00m \u001b[39m_get_join_indexers\u001b[39m(\u001b[39mself\u001b[39m) \u001b[39m-\u001b[39m\u001b[39m>\u001b[39m \u001b[39mtuple\u001b[39m[npt\u001b[39m.\u001b[39mNDArray[np\u001b[39m.\u001b[39mintp], npt\u001b[39m.\u001b[39mNDArray[np\u001b[39m.\u001b[39mintp]]:\n\u001b[0;32m   1104\u001b[0m \u001b[39m    \u001b[39m\u001b[39m\"\"\"return the join indexers\"\"\"\u001b[39;00m\n\u001b[1;32m-> 1105\u001b[0m     \u001b[39mreturn\u001b[39;00m get_join_indexers(\n\u001b[0;32m   1106\u001b[0m         \u001b[39mself\u001b[39;49m\u001b[39m.\u001b[39;49mleft_join_keys, \u001b[39mself\u001b[39;49m\u001b[39m.\u001b[39;49mright_join_keys, sort\u001b[39m=\u001b[39;49m\u001b[39mself\u001b[39;49m\u001b[39m.\u001b[39;49msort, how\u001b[39m=\u001b[39;49m\u001b[39mself\u001b[39;49m\u001b[39m.\u001b[39;49mhow\n\u001b[0;32m   1107\u001b[0m     )\n",
      "File \u001b[1;32m~\\AppData\\Local\\Packages\\PythonSoftwareFoundation.Python.3.10_qbz5n2kfra8p0\\LocalCache\\local-packages\\Python310\\site-packages\\pandas\\core\\reshape\\merge.py:1703\u001b[0m, in \u001b[0;36mget_join_indexers\u001b[1;34m(left_keys, right_keys, sort, how)\u001b[0m\n\u001b[0;32m   1698\u001b[0m \u001b[39m# get left & right join labels and num. of levels at each location\u001b[39;00m\n\u001b[0;32m   1699\u001b[0m mapped \u001b[39m=\u001b[39m (\n\u001b[0;32m   1700\u001b[0m     _factorize_keys(left_keys[n], right_keys[n], sort\u001b[39m=\u001b[39msort, how\u001b[39m=\u001b[39mhow)\n\u001b[0;32m   1701\u001b[0m     \u001b[39mfor\u001b[39;00m n \u001b[39min\u001b[39;00m \u001b[39mrange\u001b[39m(\u001b[39mlen\u001b[39m(left_keys))\n\u001b[0;32m   1702\u001b[0m )\n\u001b[1;32m-> 1703\u001b[0m zipped \u001b[39m=\u001b[39m \u001b[39mzip\u001b[39;49m(\u001b[39m*\u001b[39;49mmapped)\n\u001b[0;32m   1704\u001b[0m llab, rlab, shape \u001b[39m=\u001b[39m (\u001b[39mlist\u001b[39m(x) \u001b[39mfor\u001b[39;00m x \u001b[39min\u001b[39;00m zipped)\n\u001b[0;32m   1706\u001b[0m \u001b[39m# get flat i8 keys from label lists\u001b[39;00m\n",
      "File \u001b[1;32m~\\AppData\\Local\\Packages\\PythonSoftwareFoundation.Python.3.10_qbz5n2kfra8p0\\LocalCache\\local-packages\\Python310\\site-packages\\pandas\\core\\reshape\\merge.py:1700\u001b[0m, in \u001b[0;36m<genexpr>\u001b[1;34m(.0)\u001b[0m\n\u001b[0;32m   1696\u001b[0m         \u001b[39mreturn\u001b[39;00m _get_no_sort_one_missing_indexer(left_n, \u001b[39mFalse\u001b[39;00m)\n\u001b[0;32m   1698\u001b[0m \u001b[39m# get left & right join labels and num. of levels at each location\u001b[39;00m\n\u001b[0;32m   1699\u001b[0m mapped \u001b[39m=\u001b[39m (\n\u001b[1;32m-> 1700\u001b[0m     _factorize_keys(left_keys[n], right_keys[n], sort\u001b[39m=\u001b[39;49msort, how\u001b[39m=\u001b[39;49mhow)\n\u001b[0;32m   1701\u001b[0m     \u001b[39mfor\u001b[39;00m n \u001b[39min\u001b[39;00m \u001b[39mrange\u001b[39m(\u001b[39mlen\u001b[39m(left_keys))\n\u001b[0;32m   1702\u001b[0m )\n\u001b[0;32m   1703\u001b[0m zipped \u001b[39m=\u001b[39m \u001b[39mzip\u001b[39m(\u001b[39m*\u001b[39mmapped)\n\u001b[0;32m   1704\u001b[0m llab, rlab, shape \u001b[39m=\u001b[39m (\u001b[39mlist\u001b[39m(x) \u001b[39mfor\u001b[39;00m x \u001b[39min\u001b[39;00m zipped)\n",
      "File \u001b[1;32m~\\AppData\\Local\\Packages\\PythonSoftwareFoundation.Python.3.10_qbz5n2kfra8p0\\LocalCache\\local-packages\\Python310\\site-packages\\pandas\\core\\reshape\\merge.py:2489\u001b[0m, in \u001b[0;36m_factorize_keys\u001b[1;34m(lk, rk, sort, how)\u001b[0m\n\u001b[0;32m   2484\u001b[0m \u001b[39melse\u001b[39;00m:\n\u001b[0;32m   2485\u001b[0m     \u001b[39m# Argument 1 to \"factorize\" of \"ObjectFactorizer\" has incompatible type\u001b[39;00m\n\u001b[0;32m   2486\u001b[0m     \u001b[39m# \"Union[ndarray[Any, dtype[signedinteger[_64Bit]]],\u001b[39;00m\n\u001b[0;32m   2487\u001b[0m     \u001b[39m# ndarray[Any, dtype[object_]]]\"; expected \"ndarray[Any, dtype[object_]]\"\u001b[39;00m\n\u001b[0;32m   2488\u001b[0m     llab \u001b[39m=\u001b[39m rizer\u001b[39m.\u001b[39mfactorize(lk)  \u001b[39m# type: ignore[arg-type]\u001b[39;00m\n\u001b[1;32m-> 2489\u001b[0m     rlab \u001b[39m=\u001b[39m rizer\u001b[39m.\u001b[39;49mfactorize(rk)  \u001b[39m# type: ignore[arg-type]\u001b[39;00m\n\u001b[0;32m   2490\u001b[0m \u001b[39massert\u001b[39;00m llab\u001b[39m.\u001b[39mdtype \u001b[39m==\u001b[39m np\u001b[39m.\u001b[39mdtype(np\u001b[39m.\u001b[39mintp), llab\u001b[39m.\u001b[39mdtype\n\u001b[0;32m   2491\u001b[0m \u001b[39massert\u001b[39;00m rlab\u001b[39m.\u001b[39mdtype \u001b[39m==\u001b[39m np\u001b[39m.\u001b[39mdtype(np\u001b[39m.\u001b[39mintp), rlab\u001b[39m.\u001b[39mdtype\n",
      "File \u001b[1;32mhashtable.pyx:122\u001b[0m, in \u001b[0;36mpandas._libs.hashtable.ObjectFactorizer.factorize\u001b[1;34m()\u001b[0m\n",
      "File \u001b[1;32mpandas\\_libs\\hashtable_class_helper.pxi:7288\u001b[0m, in \u001b[0;36mpandas._libs.hashtable.PyObjectHashTable.get_labels\u001b[1;34m()\u001b[0m\n",
      "File \u001b[1;32mpandas\\_libs\\hashtable_class_helper.pxi:7194\u001b[0m, in \u001b[0;36mpandas._libs.hashtable.PyObjectHashTable._unique\u001b[1;34m()\u001b[0m\n",
      "\u001b[1;31mTypeError\u001b[0m: unhashable type: 'list'"
     ]
    }
   ],
   "source": [
    "puesto = genre('Action') \n",
    "print(puesto)"
   ]
  },
  {
   "cell_type": "code",
   "execution_count": 8,
   "metadata": {},
   "outputs": [
    {
     "name": "stdout",
     "output_type": "stream",
     "text": [
      "Información de df_reviews:\n",
      "<class 'pandas.core.frame.DataFrame'>\n",
      "RangeIndex: 59305 entries, 0 to 59304\n",
      "Data columns (total 5 columns):\n",
      " #   Column     Non-Null Count  Dtype         \n",
      "---  ------     --------------  -----         \n",
      " 0   item_id    59305 non-null  object        \n",
      " 1   recommend  59305 non-null  int32         \n",
      " 2   review     59305 non-null  object        \n",
      " 3   user_id    59305 non-null  object        \n",
      " 4   posted     59280 non-null  datetime64[ns]\n",
      "dtypes: datetime64[ns](1), int32(1), object(3)\n",
      "memory usage: 2.0+ MB\n",
      "None\n",
      "\n",
      "Información de df_items:\n",
      "<class 'pandas.core.frame.DataFrame'>\n",
      "RangeIndex: 88310 entries, 0 to 88309\n",
      "Data columns (total 3 columns):\n",
      " #   Column    Non-Null Count  Dtype  \n",
      "---  ------    --------------  -----  \n",
      " 0   user_id   88310 non-null  object \n",
      " 1   playtime  88310 non-null  float64\n",
      " 2   item_id   88310 non-null  object \n",
      "dtypes: float64(1), object(2)\n",
      "memory usage: 2.0+ MB\n",
      "None\n",
      "\n",
      "Información de df_games:\n",
      "<class 'pandas.core.frame.DataFrame'>\n",
      "Index: 28533 entries, 88310 to 120443\n",
      "Data columns (total 5 columns):\n",
      " #   Column        Non-Null Count  Dtype         \n",
      "---  ------        --------------  -----         \n",
      " 0   genres        28533 non-null  object        \n",
      " 1   release_date  28533 non-null  datetime64[ns]\n",
      " 2   price         28533 non-null  float64       \n",
      " 3   developer     28533 non-null  object        \n",
      " 4   id            28533 non-null  object        \n",
      "dtypes: datetime64[ns](1), float64(1), object(3)\n",
      "memory usage: 1.3+ MB\n",
      "None\n"
     ]
    }
   ],
   "source": [
    "import pandas as pd\n",
    "\n",
    "# Importar el archivo 'reviews.pkl' en formato Pickle\n",
    "df_reviews = pd.read_pickle('reviews.pkl')\n",
    "\n",
    "# Importar el archivo 'items.pkl' en formato Pickle\n",
    "df_items = pd.read_pickle('playtime.pkl')\n",
    "\n",
    "# Importar el archivo 'games.pkl' en formato Pickle\n",
    "df_games = pd.read_pickle('games.pkl')\n",
    "\n",
    "# Imprimir información de df_reviews\n",
    "print(\"Información de df_reviews:\")\n",
    "print(df_reviews.info())\n",
    "\n",
    "# Imprimir información de df_items\n",
    "print(\"\\nInformación de df_items:\")\n",
    "print(df_items.info())\n",
    "\n",
    "# Imprimir información de df_games\n",
    "print(\"\\nInformación de df_games:\")\n",
    "print(df_games.info())\n"
   ]
  },
  {
   "cell_type": "code",
   "execution_count": null,
   "metadata": {},
   "outputs": [],
   "source": [
    "def users_reviews_between_dates(merged_df, start_date, end_date):\n",
    "    filtered_df = merge_df[(merged_df['posted'] == start_date) & (merged_df['posted'] == end_date)]\n",
    "    total_users = filtered_df['user_id'].nunique()\n",
    "    recommend_percentage = filtered_df['recommend_percentage']\n",
    "    return total_users, recommend_percentage"
   ]
  },
  {
   "cell_type": "code",
   "execution_count": null,
   "metadata": {},
   "outputs": [],
   "source": [
    "start_date = pd.to_datetime(start_date)\n",
    "    end_date = pd.to_datetime(end_date)\n",
    "    \n",
    "    # Filtrar las reviews entre las fechas dadas\n",
    "    filtered_reviews = reviews[(reviews['posted'] >= start_date) & (reviews['posted'] <= end_date)]\n",
    "    \n",
    "    # Calcular la cantidad de usuarios únicos que realizaron reviews en el período\n",
    "    unique_users = filtered_reviews['user_id'].nunique()\n",
    "    \n",
    "    # Calcular el porcentaje de recomendación\n",
    "    recommendation_percentage = (filtered_reviews['recommend'].sum() /"
   ]
  },
  {
   "cell_type": "code",
   "execution_count": null,
   "metadata": {},
   "outputs": [],
   "source": [
    "# Lista de columnas relevantes\n",
    "columnas_similares = ['genres', 'tags', 'specs']\n",
    "\n",
    "# Función para combinar listas en una cadena\n",
    "def combinar_listas(row):\n",
    "    combined = ' '.join(item for sublist in row if sublist for item in sublist)\n",
    "    return combined\n",
    "\n",
    "# Crear una nueva columna \"variables_juntas\" con las listas combinadas en cadenas\n",
    "df_sg_nec['variables_juntas'] = df_sg_nec[columnas_similares].apply(combinar_listas, axis=1)\n",
    "# Crear una matriz TF-IDF\n",
    "tfidf_vectorizer = TfidfVectorizer()\n",
    "tfidf_matrix = tfidf_vectorizer.fit_transform(df_sg_nec['variables_juntas'])"
   ]
  },
  {
   "cell_type": "code",
   "execution_count": null,
   "metadata": {},
   "outputs": [],
   "source": [
    "# Reducción de dimensionalidad con Truncated SVD\n",
    "num_components = 50  # Número de componentes a mantener\n",
    "svd = TruncatedSVD(n_components=num_components)\n",
    "svd_matrix = svd.fit_transform(tfidf_matrix)\n",
    "# Calcular la similitud de coseno en la matriz reducida\n",
    "cosine_sim_svd = cosine_similarity(svd_matrix, svd_matrix)"
   ]
  },
  {
   "cell_type": "code",
   "execution_count": null,
   "metadata": {},
   "outputs": [],
   "source": [
    "def sentiment_analysis(año: int):\n",
    "    # Unir los DataFrames en base a una columna común\n",
    "    df_merged = pd.merge(steam, reviews, left_on='item_id', right_on='item_id')\n",
    "\n",
    "    # Convierte 'releasedate' a datetime y extrae el año\n",
    "    df_merged['year'] = pd.to_datetime(df_merged['releasedate']).dt.year\n",
    "\n",
    "    # Filtra el DataFrame por el año dado\n",
    "    df_año = df_merged[df_merged['year'] == año]\n",
    "\n",
    "    # Cuenta las ocurrencias de cada sentimiento\n",
    "    conteo_sentimientos = df_año['sentiment_analysis'].valu"
   ]
  }
 ],
 "metadata": {
  "kernelspec": {
   "display_name": "venv",
   "language": "python",
   "name": "python3"
  },
  "language_info": {
   "codemirror_mode": {
    "name": "ipython",
    "version": 3
   },
   "file_extension": ".py",
   "mimetype": "text/x-python",
   "name": "python",
   "nbconvert_exporter": "python",
   "pygments_lexer": "ipython3",
   "version": "3.10.11"
  },
  "orig_nbformat": 4
 },
 "nbformat": 4,
 "nbformat_minor": 2
}
