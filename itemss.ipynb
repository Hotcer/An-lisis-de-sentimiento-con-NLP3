{
 "cells": [
  {
   "cell_type": "code",
   "execution_count": 1,
   "metadata": {},
   "outputs": [],
   "source": [
    "import pandas as pd\n",
    "import ast\n",
    "import pickle"
   ]
  },
  {
   "cell_type": "code",
   "execution_count": 2,
   "metadata": {},
   "outputs": [],
   "source": [
    "filas=[]\n",
    "with open('australian_users_items.json', encoding='utf-8') as a:\n",
    "    for linea in a.readlines():\n",
    "        filas.append(ast.literal_eval(linea))\n"
   ]
  },
  {
   "cell_type": "code",
   "execution_count": 3,
   "metadata": {},
   "outputs": [],
   "source": [
    "# Suponiendo que ya tienes la lista 'filas' cargada con los datos\n",
    "df_items = pd.DataFrame(filas)\n"
   ]
  },
  {
   "cell_type": "code",
   "execution_count": 4,
   "metadata": {},
   "outputs": [
    {
     "data": {
      "text/html": [
       "<div>\n",
       "<style scoped>\n",
       "    .dataframe tbody tr th:only-of-type {\n",
       "        vertical-align: middle;\n",
       "    }\n",
       "\n",
       "    .dataframe tbody tr th {\n",
       "        vertical-align: top;\n",
       "    }\n",
       "\n",
       "    .dataframe thead th {\n",
       "        text-align: right;\n",
       "    }\n",
       "</style>\n",
       "<table border=\"1\" class=\"dataframe\">\n",
       "  <thead>\n",
       "    <tr style=\"text-align: right;\">\n",
       "      <th></th>\n",
       "      <th>user_id</th>\n",
       "      <th>items_count</th>\n",
       "      <th>steam_id</th>\n",
       "      <th>user_url</th>\n",
       "      <th>items</th>\n",
       "    </tr>\n",
       "  </thead>\n",
       "  <tbody>\n",
       "    <tr>\n",
       "      <th>0</th>\n",
       "      <td>76561197970982479</td>\n",
       "      <td>277</td>\n",
       "      <td>76561197970982479</td>\n",
       "      <td>http://steamcommunity.com/profiles/76561197970...</td>\n",
       "      <td>[{'item_id': '10', 'item_name': 'Counter-Strik...</td>\n",
       "    </tr>\n",
       "    <tr>\n",
       "      <th>1</th>\n",
       "      <td>js41637</td>\n",
       "      <td>888</td>\n",
       "      <td>76561198035864385</td>\n",
       "      <td>http://steamcommunity.com/id/js41637</td>\n",
       "      <td>[{'item_id': '10', 'item_name': 'Counter-Strik...</td>\n",
       "    </tr>\n",
       "    <tr>\n",
       "      <th>2</th>\n",
       "      <td>evcentric</td>\n",
       "      <td>137</td>\n",
       "      <td>76561198007712555</td>\n",
       "      <td>http://steamcommunity.com/id/evcentric</td>\n",
       "      <td>[{'item_id': '1200', 'item_name': 'Red Orchest...</td>\n",
       "    </tr>\n",
       "    <tr>\n",
       "      <th>3</th>\n",
       "      <td>Riot-Punch</td>\n",
       "      <td>328</td>\n",
       "      <td>76561197963445855</td>\n",
       "      <td>http://steamcommunity.com/id/Riot-Punch</td>\n",
       "      <td>[{'item_id': '10', 'item_name': 'Counter-Strik...</td>\n",
       "    </tr>\n",
       "    <tr>\n",
       "      <th>4</th>\n",
       "      <td>doctr</td>\n",
       "      <td>541</td>\n",
       "      <td>76561198002099482</td>\n",
       "      <td>http://steamcommunity.com/id/doctr</td>\n",
       "      <td>[{'item_id': '300', 'item_name': 'Day of Defea...</td>\n",
       "    </tr>\n",
       "  </tbody>\n",
       "</table>\n",
       "</div>"
      ],
      "text/plain": [
       "             user_id  items_count           steam_id  \\\n",
       "0  76561197970982479          277  76561197970982479   \n",
       "1            js41637          888  76561198035864385   \n",
       "2          evcentric          137  76561198007712555   \n",
       "3         Riot-Punch          328  76561197963445855   \n",
       "4              doctr          541  76561198002099482   \n",
       "\n",
       "                                            user_url  \\\n",
       "0  http://steamcommunity.com/profiles/76561197970...   \n",
       "1               http://steamcommunity.com/id/js41637   \n",
       "2             http://steamcommunity.com/id/evcentric   \n",
       "3            http://steamcommunity.com/id/Riot-Punch   \n",
       "4                 http://steamcommunity.com/id/doctr   \n",
       "\n",
       "                                               items  \n",
       "0  [{'item_id': '10', 'item_name': 'Counter-Strik...  \n",
       "1  [{'item_id': '10', 'item_name': 'Counter-Strik...  \n",
       "2  [{'item_id': '1200', 'item_name': 'Red Orchest...  \n",
       "3  [{'item_id': '10', 'item_name': 'Counter-Strik...  \n",
       "4  [{'item_id': '300', 'item_name': 'Day of Defea...  "
      ]
     },
     "execution_count": 4,
     "metadata": {},
     "output_type": "execute_result"
    }
   ],
   "source": [
    "df_items.head()"
   ]
  },
  {
   "cell_type": "markdown",
   "metadata": {},
   "source": [
    "Mostramos el contenido de la columna items"
   ]
  },
  {
   "cell_type": "code",
   "execution_count": 5,
   "metadata": {},
   "outputs": [
    {
     "data": {
      "text/plain": [
       "0        [{'item_id': '10', 'item_name': 'Counter-Strik...\n",
       "1        [{'item_id': '10', 'item_name': 'Counter-Strik...\n",
       "2        [{'item_id': '1200', 'item_name': 'Red Orchest...\n",
       "3        [{'item_id': '10', 'item_name': 'Counter-Strik...\n",
       "4        [{'item_id': '300', 'item_name': 'Day of Defea...\n",
       "                               ...                        \n",
       "88305    [{'item_id': '413850', 'item_name': 'CS:GO Pla...\n",
       "88306    [{'item_id': '11020', 'item_name': 'TrackMania...\n",
       "88307                                                   []\n",
       "88308    [{'item_id': '304930', 'item_name': 'Unturned'...\n",
       "88309                                                   []\n",
       "Name: items, Length: 88310, dtype: object"
      ]
     },
     "execution_count": 5,
     "metadata": {},
     "output_type": "execute_result"
    }
   ],
   "source": [
    "df_items['items']"
   ]
  },
  {
   "cell_type": "code",
   "execution_count": 6,
   "metadata": {},
   "outputs": [
    {
     "name": "stdout",
     "output_type": "stream",
     "text": [
      "<class 'pandas.core.series.Series'>\n",
      "RangeIndex: 88310 entries, 0 to 88309\n",
      "Series name: items\n",
      "Non-Null Count  Dtype \n",
      "--------------  ----- \n",
      "88310 non-null  object\n",
      "dtypes: object(1)\n",
      "memory usage: 690.0+ KB\n"
     ]
    }
   ],
   "source": [
    "df_items['items'].info()"
   ]
  },
  {
   "cell_type": "markdown",
   "metadata": {},
   "source": [
    "Desanidamos la columna items para ver el contenido de la columna playtime_forever"
   ]
  },
  {
   "cell_type": "code",
   "execution_count": 7,
   "metadata": {},
   "outputs": [
    {
     "name": "stdout",
     "output_type": "stream",
     "text": [
      "                       user_id  \\\n",
      "0            76561197970982479   \n",
      "1                      js41637   \n",
      "2                    evcentric   \n",
      "3                   Riot-Punch   \n",
      "4                        doctr   \n",
      "...                        ...   \n",
      "88305        76561198323066619   \n",
      "88306        76561198326700687   \n",
      "88307  XxLaughingJackClown77xX   \n",
      "88308        76561198329548331   \n",
      "88309        edward_tremethick   \n",
      "\n",
      "                                                playtime  \\\n",
      "0      [6, 0, 7, 0, 0, 0, 0, 0, 4733, 1853, 333, 75, ...   \n",
      "1      [0, 0, 0, 220, 0, 0, 0, 62, 0, 0, 0, 0, 0, 0, ...   \n",
      "2      [923, 0, 0, 158, 1323, 0, 90, 0, 234, 113, 507...   \n",
      "3      [0, 0, 0, 0, 0, 0, 0, 0, 0, 0, 67, 2304, 0, 0,...   \n",
      "4      [1131, 89, 178, 108, 313, 93, 16, 4, 0, 13, 47...   \n",
      "...                                                  ...   \n",
      "88305  [0, 0, 0, 0, 0, 0, 0, 0, 0, 0, 0, 0, 0, 0, 0, ...   \n",
      "88306  [0, 0, 0, 0, 0, 0, 0, 0, 0, 0, 0, 0, 0, 0, 0, ...   \n",
      "88307                                                 []   \n",
      "88308                           [677, 43, 0, 0, 3, 4, 3]   \n",
      "88309                                                 []   \n",
      "\n",
      "                                                 item_id  \n",
      "0      [10, 20, 30, 40, 50, 60, 70, 130, 300, 240, 38...  \n",
      "1      [10, 80, 100, 300, 30, 40, 60, 240, 280, 360, ...  \n",
      "2      [1200, 1230, 1280, 1520, 220, 320, 340, 360, 3...  \n",
      "3      [10, 20, 30, 40, 50, 60, 70, 130, 80, 100, 300...  \n",
      "4      [300, 20, 50, 70, 130, 10, 30, 40, 60, 80, 100...  \n",
      "...                                                  ...  \n",
      "88305  [413850, 413851, 413852, 413853, 413854, 41385...  \n",
      "88306  [11020, 6370, 13140, 51100, 107900, 113400, 20...  \n",
      "88307                                                 []  \n",
      "88308  [304930, 227940, 346330, 373330, 388490, 52157...  \n",
      "88309                                                 []  \n",
      "\n",
      "[88310 rows x 3 columns]\n"
     ]
    }
   ],
   "source": [
    "# Define una función personalizada para extraer 'playtime_forever' y 'item_id' de una lista de diccionarios\n",
    "def extract_playtime_and_item_id(item_list):\n",
    "    playtimes = []\n",
    "    item_ids = []\n",
    "    for item_data in item_list:\n",
    "        try:\n",
    "            playtime = item_data.get('playtime_forever')\n",
    "            item_id = item_data.get('item_id')\n",
    "            if playtime is not None:\n",
    "                playtimes.append(playtime)\n",
    "                item_ids.append(item_id)\n",
    "        except KeyError:\n",
    "            pass\n",
    "    return playtimes, item_ids\n",
    "\n",
    "# Aplica la función para extraer 'playtime_forever' y 'item_id' y crea las nuevas columnas 'playtime' y 'item_id'\n",
    "df_items['playtime'], df_items['item_id'] = zip(*df_items['items'].apply(extract_playtime_and_item_id))\n",
    "\n",
    "# Muestra el DataFrame resultante con las nuevas columnas 'playtime' y 'item_id'\n",
    "print(df_items[['user_id', 'playtime', 'item_id']])\n",
    "\n",
    "\n"
   ]
  },
  {
   "cell_type": "code",
   "execution_count": 8,
   "metadata": {},
   "outputs": [
    {
     "name": "stdout",
     "output_type": "stream",
     "text": [
      "                       user_id  \\\n",
      "0            76561197970982479   \n",
      "1                      js41637   \n",
      "2                    evcentric   \n",
      "3                   Riot-Punch   \n",
      "4                        doctr   \n",
      "...                        ...   \n",
      "88305        76561198323066619   \n",
      "88306        76561198326700687   \n",
      "88307  XxLaughingJackClown77xX   \n",
      "88308        76561198329548331   \n",
      "88309        edward_tremethick   \n",
      "\n",
      "                                                playtime  \\\n",
      "0      [6, 0, 7, 0, 0, 0, 0, 0, 4733, 1853, 333, 75, ...   \n",
      "1      [0, 0, 0, 220, 0, 0, 0, 62, 0, 0, 0, 0, 0, 0, ...   \n",
      "2      [923, 0, 0, 158, 1323, 0, 90, 0, 234, 113, 507...   \n",
      "3      [0, 0, 0, 0, 0, 0, 0, 0, 0, 0, 67, 2304, 0, 0,...   \n",
      "4      [1131, 89, 178, 108, 313, 93, 16, 4, 0, 13, 47...   \n",
      "...                                                  ...   \n",
      "88305  [0, 0, 0, 0, 0, 0, 0, 0, 0, 0, 0, 0, 0, 0, 0, ...   \n",
      "88306  [0, 0, 0, 0, 0, 0, 0, 0, 0, 0, 0, 0, 0, 0, 0, ...   \n",
      "88307                                                 []   \n",
      "88308                           [677, 43, 0, 0, 3, 4, 3]   \n",
      "88309                                                 []   \n",
      "\n",
      "                                                 item_id  \n",
      "0      [10, 20, 30, 40, 50, 60, 70, 130, 300, 240, 38...  \n",
      "1      [10, 80, 100, 300, 30, 40, 60, 240, 280, 360, ...  \n",
      "2      [1200, 1230, 1280, 1520, 220, 320, 340, 360, 3...  \n",
      "3      [10, 20, 30, 40, 50, 60, 70, 130, 80, 100, 300...  \n",
      "4      [300, 20, 50, 70, 130, 10, 30, 40, 60, 80, 100...  \n",
      "...                                                  ...  \n",
      "88305  [413850, 413851, 413852, 413853, 413854, 41385...  \n",
      "88306  [11020, 6370, 13140, 51100, 107900, 113400, 20...  \n",
      "88307                                                 []  \n",
      "88308  [304930, 227940, 346330, 373330, 388490, 52157...  \n",
      "88309                                                 []  \n",
      "\n",
      "[88310 rows x 3 columns]\n"
     ]
    }
   ],
   "source": [
    "# Crear un nuevo DataFrame con los resultados\n",
    "df_playtime = df_items[['user_id', 'playtime', 'item_id']].copy()\n",
    "\n",
    "# Mostrar el nuevo DataFrame\n",
    "print(df_playtime)\n"
   ]
  },
  {
   "cell_type": "code",
   "execution_count": 9,
   "metadata": {},
   "outputs": [
    {
     "data": {
      "text/plain": [
       "0        [10, 20, 30, 40, 50, 60, 70, 130, 300, 240, 38...\n",
       "1        [10, 80, 100, 300, 30, 40, 60, 240, 280, 360, ...\n",
       "2        [1200, 1230, 1280, 1520, 220, 320, 340, 360, 3...\n",
       "3        [10, 20, 30, 40, 50, 60, 70, 130, 80, 100, 300...\n",
       "4        [300, 20, 50, 70, 130, 10, 30, 40, 60, 80, 100...\n",
       "                               ...                        \n",
       "88305    [413850, 413851, 413852, 413853, 413854, 41385...\n",
       "88306    [11020, 6370, 13140, 51100, 107900, 113400, 20...\n",
       "88307                                                   []\n",
       "88308    [304930, 227940, 346330, 373330, 388490, 52157...\n",
       "88309                                                   []\n",
       "Name: item_id, Length: 88310, dtype: object"
      ]
     },
     "execution_count": 9,
     "metadata": {},
     "output_type": "execute_result"
    }
   ],
   "source": [
    "df_items['item_id']"
   ]
  },
  {
   "cell_type": "markdown",
   "metadata": {},
   "source": [
    "Convertir item_id' en datos hashables como cadenas."
   ]
  },
  {
   "cell_type": "code",
   "execution_count": 10,
   "metadata": {},
   "outputs": [],
   "source": [
    "df_items['item_id'] = df_items['item_id'].apply(lambda x: ','.join(map(str, x)))\n"
   ]
  },
  {
   "cell_type": "code",
   "execution_count": 12,
   "metadata": {},
   "outputs": [
    {
     "data": {
      "text/plain": [
       "0        10,20,30,40,50,60,70,130,300,240,3830,2630,390...\n",
       "1        10,80,100,300,30,40,60,240,280,360,320,20,50,7...\n",
       "2        1200,1230,1280,1520,220,320,340,360,380,400,42...\n",
       "3        10,20,30,40,50,60,70,130,80,100,300,240,1200,1...\n",
       "4        300,20,50,70,130,10,30,40,60,80,100,1300,1309,...\n",
       "                               ...                        \n",
       "88305    413850,413851,413852,413853,413854,413855,4138...\n",
       "88306    11020,6370,13140,51100,107900,113400,200210,20...\n",
       "88307                                                     \n",
       "88308     304930,227940,346330,373330,388490,521570,519140\n",
       "88309                                                     \n",
       "Name: item_id, Length: 88310, dtype: object"
      ]
     },
     "execution_count": 12,
     "metadata": {},
     "output_type": "execute_result"
    }
   ],
   "source": [
    "df_items['item_id']"
   ]
  },
  {
   "cell_type": "markdown",
   "metadata": {},
   "source": [
    "Sacar playtime de listas"
   ]
  },
  {
   "cell_type": "code",
   "execution_count": 13,
   "metadata": {},
   "outputs": [],
   "source": [
    "df_items['playtime'] = df_items['playtime'].apply(lambda x: ','.join(map(str, x)))\n"
   ]
  },
  {
   "cell_type": "code",
   "execution_count": 14,
   "metadata": {},
   "outputs": [
    {
     "data": {
      "text/plain": [
       "0        6,0,7,0,0,0,0,0,4733,1853,333,75,338,0,2,286,2...\n",
       "1        0,0,0,220,0,0,0,62,0,0,0,0,0,0,0,107,0,412,0,1...\n",
       "2        923,0,0,158,1323,0,90,0,234,113,507,21,6038,16...\n",
       "3        0,0,0,0,0,0,0,0,0,0,67,2304,0,0,0,0,0,0,68,0,0...\n",
       "4        1131,89,178,108,313,93,16,4,0,13,47,18,0,4,1,1...\n",
       "                               ...                        \n",
       "88305          0,0,0,0,0,0,0,0,0,0,0,0,0,0,0,0,0,0,0,0,0,8\n",
       "88306    0,0,0,0,0,0,0,0,0,0,0,0,0,0,0,0,0,0,0,0,0,0,0,...\n",
       "88307                                                     \n",
       "88308                                     677,43,0,0,3,4,3\n",
       "88309                                                     \n",
       "Name: playtime, Length: 88310, dtype: object"
      ]
     },
     "execution_count": 14,
     "metadata": {},
     "output_type": "execute_result"
    }
   ],
   "source": [
    "df_items['playtime']"
   ]
  },
  {
   "cell_type": "markdown",
   "metadata": {},
   "source": [
    "Convertir la columna \"playtime\" del DataFrame df_playtime a minutos."
   ]
  },
  {
   "cell_type": "code",
   "execution_count": 15,
   "metadata": {},
   "outputs": [],
   "source": [
    "# Reemplazar valores no numéricos con NaN\n",
    "df_playtime['playtime'] = df_items['playtime'].str.replace(' minutes', '', regex=False)\n",
    "df_playtime['playtime'] = pd.to_numeric(df_items['playtime'], errors='coerce')\n",
    "\n",
    "# Luego, puedes llenar los valores NaN con 0 si es necesario\n",
    "df_playtime['playtime'] = df_playtime['playtime'].fillna(0)\n"
   ]
  },
  {
   "cell_type": "code",
   "execution_count": 16,
   "metadata": {},
   "outputs": [
    {
     "name": "stdout",
     "output_type": "stream",
     "text": [
      "<class 'pandas.core.frame.DataFrame'>\n",
      "RangeIndex: 88310 entries, 0 to 88309\n",
      "Data columns (total 3 columns):\n",
      " #   Column    Non-Null Count  Dtype  \n",
      "---  ------    --------------  -----  \n",
      " 0   user_id   88310 non-null  object \n",
      " 1   playtime  88310 non-null  float64\n",
      " 2   item_id   88310 non-null  object \n",
      "dtypes: float64(1), object(2)\n",
      "memory usage: 2.0+ MB\n"
     ]
    }
   ],
   "source": [
    "df_playtime.info()"
   ]
  },
  {
   "cell_type": "markdown",
   "metadata": {},
   "source": [
    "Guardamos las columnas limpias en archivo pkl"
   ]
  },
  {
   "cell_type": "code",
   "execution_count": 19,
   "metadata": {},
   "outputs": [],
   "source": [
    "df_playtime.to_pickle('playtime.pkl')"
   ]
  },
  {
   "cell_type": "code",
   "execution_count": 18,
   "metadata": {},
   "outputs": [
    {
     "name": "stdout",
     "output_type": "stream",
     "text": [
      "<class 'pandas.core.frame.DataFrame'>\n",
      "RangeIndex: 88310 entries, 0 to 88309\n",
      "Data columns (total 3 columns):\n",
      " #   Column    Non-Null Count  Dtype  \n",
      "---  ------    --------------  -----  \n",
      " 0   user_id   88310 non-null  object \n",
      " 1   playtime  88310 non-null  float64\n",
      " 2   item_id   88310 non-null  object \n",
      "dtypes: float64(1), object(2)\n",
      "memory usage: 2.0+ MB\n"
     ]
    }
   ],
   "source": [
    "df_playtime.info()"
   ]
  }
 ],
 "metadata": {
  "kernelspec": {
   "display_name": "venv",
   "language": "python",
   "name": "python3"
  },
  "language_info": {
   "codemirror_mode": {
    "name": "ipython",
    "version": 3
   },
   "file_extension": ".py",
   "mimetype": "text/x-python",
   "name": "python",
   "nbconvert_exporter": "python",
   "pygments_lexer": "ipython3",
   "version": "3.10.11"
  },
  "orig_nbformat": 4
 },
 "nbformat": 4,
 "nbformat_minor": 2
}
