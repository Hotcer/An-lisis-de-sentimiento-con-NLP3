{
 "cells": [
  {
   "cell_type": "code",
   "execution_count": 2,
   "metadata": {
    "tags": []
   },
   "outputs": [],
   "source": [
    "import pandas as pd\n",
    "import ast\n",
    "from textblob import TextBlob"
   ]
  },
  {
   "cell_type": "code",
   "execution_count": 3,
   "metadata": {},
   "outputs": [],
   "source": [
    "# Leer datos de JSON e importar en dataframe\n",
    "rows = []\n",
    "\n",
    "with open ('australian_user_reviews.json', encoding='MacRoman') as f:\n",
    "    for line in f.readlines():\n",
    "        rows.append(ast.literal_eval(line))\n",
    "\n",
    "df_reviews = pd.DataFrame(rows)\n",
    "\n",
    "# df.to_csv('revision.csv', index=False)"
   ]
  },
  {
   "cell_type": "code",
   "execution_count": 4,
   "metadata": {},
   "outputs": [
    {
     "name": "stdout",
     "output_type": "stream",
     "text": [
      "<class 'pandas.core.frame.DataFrame'>\n",
      "RangeIndex: 25799 entries, 0 to 25798\n",
      "Data columns (total 3 columns):\n",
      " #   Column    Non-Null Count  Dtype \n",
      "---  ------    --------------  ----- \n",
      " 0   user_id   25799 non-null  object\n",
      " 1   user_url  25799 non-null  object\n",
      " 2   reviews   25799 non-null  object\n",
      "dtypes: object(3)\n",
      "memory usage: 604.8+ KB\n"
     ]
    }
   ],
   "source": [
    "df_reviews.info()"
   ]
  },
  {
   "cell_type": "code",
   "execution_count": 5,
   "metadata": {},
   "outputs": [
    {
     "data": {
      "text/html": [
       "<div>\n",
       "<style scoped>\n",
       "    .dataframe tbody tr th:only-of-type {\n",
       "        vertical-align: middle;\n",
       "    }\n",
       "\n",
       "    .dataframe tbody tr th {\n",
       "        vertical-align: top;\n",
       "    }\n",
       "\n",
       "    .dataframe thead th {\n",
       "        text-align: right;\n",
       "    }\n",
       "</style>\n",
       "<table border=\"1\" class=\"dataframe\">\n",
       "  <thead>\n",
       "    <tr style=\"text-align: right;\">\n",
       "      <th></th>\n",
       "      <th>user_id</th>\n",
       "      <th>user_url</th>\n",
       "      <th>reviews</th>\n",
       "    </tr>\n",
       "  </thead>\n",
       "  <tbody>\n",
       "    <tr>\n",
       "      <th>0</th>\n",
       "      <td>76561197970982479</td>\n",
       "      <td>http://steamcommunity.com/profiles/76561197970...</td>\n",
       "      <td>[{'funny': '', 'posted': 'Posted November 5, 2...</td>\n",
       "    </tr>\n",
       "  </tbody>\n",
       "</table>\n",
       "</div>"
      ],
      "text/plain": [
       "             user_id                                           user_url  \\\n",
       "0  76561197970982479  http://steamcommunity.com/profiles/76561197970...   \n",
       "\n",
       "                                             reviews  \n",
       "0  [{'funny': '', 'posted': 'Posted November 5, 2...  "
      ]
     },
     "execution_count": 5,
     "metadata": {},
     "output_type": "execute_result"
    }
   ],
   "source": [
    "df_reviews.head(1)"
   ]
  },
  {
   "cell_type": "markdown",
   "metadata": {},
   "source": [
    "Comprobando si hay valores nulos en el DataFrame"
   ]
  },
  {
   "cell_type": "code",
   "execution_count": 6,
   "metadata": {},
   "outputs": [
    {
     "data": {
      "text/plain": [
       "user_id     0\n",
       "user_url    0\n",
       "reviews     0\n",
       "dtype: int64"
      ]
     },
     "execution_count": 6,
     "metadata": {},
     "output_type": "execute_result"
    }
   ],
   "source": [
    "# Comprobando si hay valores nulos en el DataFrame\n",
    "df_reviews.isnull().sum()"
   ]
  },
  {
   "cell_type": "markdown",
   "metadata": {},
   "source": [
    "Mostramos todo el contenido dentro de la columna 'reviews'"
   ]
  },
  {
   "cell_type": "code",
   "execution_count": 7,
   "metadata": {},
   "outputs": [],
   "source": [
    "df_user_expanded_list = []\n",
    "\n",
    "# Luego, procesamos cada fila del DataFrame original por separado\n",
    "for idx, row in df_reviews.iterrows():\n",
    "    # Expandimos la lista de 'items' en una fila en un DataFrame separado\n",
    "    temp = pd.json_normalize(row['reviews'])\n",
    "    # Agregamos 'user_id' al DataFrame temporal\n",
    "    temp['user_id'] = row['user_id']\n",
    "    # Agregamos el DataFrame temporal a nuestra lista de resultados\n",
    "    df_user_expanded_list.append(temp)\n",
    "\n",
    "# Finalmente, concatenamos todos los DataFrames temporales en uno solo\n",
    "df_user_expanded = pd.concat(df_user_expanded_list, ignore_index=True)\n"
   ]
  },
  {
   "cell_type": "code",
   "execution_count": 8,
   "metadata": {},
   "outputs": [
    {
     "name": "stdout",
     "output_type": "stream",
     "text": [
      "                                  funny                     posted  \\\n",
      "0                                         Posted November 5, 2011.   \n",
      "1                                            Posted July 15, 2011.   \n",
      "2                                           Posted April 21, 2011.   \n",
      "3                                            Posted June 24, 2014.   \n",
      "4                                        Posted September 8, 2013.   \n",
      "...                                 ...                        ...   \n",
      "59300                                              Posted July 10.   \n",
      "59301                                               Posted July 8.   \n",
      "59302  1 person found this review funny             Posted July 3.   \n",
      "59303                                              Posted July 20.   \n",
      "59304                                               Posted July 2.   \n",
      "\n",
      "      last_edited item_id                                          helpful  \\\n",
      "0                    1250                                   No ratings yet   \n",
      "1                   22200                                   No ratings yet   \n",
      "2                   43110                                   No ratings yet   \n",
      "3                  251610  15 of 20 people (75%) found this review helpful   \n",
      "4                  227300     0 of 1 people (0%) found this review helpful   \n",
      "...           ...     ...                                              ...   \n",
      "59300                  70                                   No ratings yet   \n",
      "59301              362890                                   No ratings yet   \n",
      "59302              273110    1 of 2 people (50%) found this review helpful   \n",
      "59303                 730                                   No ratings yet   \n",
      "59304                 440                                   No ratings yet   \n",
      "\n",
      "      recommend                                             review  \\\n",
      "0          True  Simple yet with great replayability. In my opi...   \n",
      "1          True               It's unique and worth a playthrough.   \n",
      "2          True  Great atmosphere. The gunplay can be a bit chu...   \n",
      "3          True  I know what you think when you see this title ...   \n",
      "4          True  For a simple (it's actually not all that simpl...   \n",
      "...         ...                                                ...   \n",
      "59300      True  a must have classic from steam definitely wort...   \n",
      "59301      True  this game is a perfect remake of the original ...   \n",
      "59302      True  had so much fun plaing this and collecting res...   \n",
      "59303      True                                                 :D   \n",
      "59304      True                                     so much fun :D   \n",
      "\n",
      "                 user_id  \n",
      "0      76561197970982479  \n",
      "1      76561197970982479  \n",
      "2      76561197970982479  \n",
      "3                js41637  \n",
      "4                js41637  \n",
      "...                  ...  \n",
      "59300  76561198312638244  \n",
      "59301  76561198312638244  \n",
      "59302        LydiaMorley  \n",
      "59303        LydiaMorley  \n",
      "59304        LydiaMorley  \n",
      "\n",
      "[59305 rows x 8 columns]\n"
     ]
    }
   ],
   "source": [
    "print(df_user_expanded)"
   ]
  },
  {
   "cell_type": "markdown",
   "metadata": {},
   "source": [
    "Comenzamos con la clumna posted"
   ]
  },
  {
   "cell_type": "code",
   "execution_count": 9,
   "metadata": {},
   "outputs": [
    {
     "name": "stdout",
     "output_type": "stream",
     "text": [
      "0         Posted November 5, 2011.\n",
      "1            Posted July 15, 2011.\n",
      "2           Posted April 21, 2011.\n",
      "3            Posted June 24, 2014.\n",
      "4        Posted September 8, 2013.\n",
      "                   ...            \n",
      "59300              Posted July 10.\n",
      "59301               Posted July 8.\n",
      "59302               Posted July 3.\n",
      "59303              Posted July 20.\n",
      "59304               Posted July 2.\n",
      "Name: posted, Length: 59305, dtype: object\n"
     ]
    }
   ],
   "source": [
    "# Muestra el contenido de la columna \"posted\" en el DataFrame\n",
    "print(df_user_expanded['posted'])\n"
   ]
  },
  {
   "cell_type": "markdown",
   "metadata": {},
   "source": [
    "Cambiar el tipo de datos de la columna posted para datetime"
   ]
  },
  {
   "cell_type": "code",
   "execution_count": 14,
   "metadata": {},
   "outputs": [],
   "source": [
    "from datetime import datetime\n",
    "\n",
    "def convert_date(date_str):\n",
    "    try:\n",
    "        date = datetime.strptime(date_str, \"Posted %B %d, %Y.\")\n",
    "    except ValueError:\n",
    "        try:\n",
    "            # Intenta convertir sin el año (usando un año ficticio, como 2000)\n",
    "            date = datetime.strptime(date_str, \"Posted %B %d.\")\n",
    "            date = date.replace(year=2000)\n",
    "        except ValueError:\n",
    "            # Si no se puede convertir, asigna una fecha nula\n",
    "            date = None\n",
    "    return date\n",
    "\n",
    "\n"
   ]
  },
  {
   "cell_type": "code",
   "execution_count": 15,
   "metadata": {},
   "outputs": [],
   "source": [
    "df_user_expanded['posted'] = df_user_expanded['posted'].apply(convert_date)\n"
   ]
  },
  {
   "cell_type": "markdown",
   "metadata": {},
   "source": [
    "Miosrtramos las columnas que necesitamos quwe son 'item_id', 'recommend', 'review'"
   ]
  },
  {
   "cell_type": "code",
   "execution_count": 16,
   "metadata": {},
   "outputs": [
    {
     "name": "stdout",
     "output_type": "stream",
     "text": [
      "      item_id recommend                                             review  \\\n",
      "0        1250      True  Simple yet with great replayability. In my opi...   \n",
      "1       22200      True               It's unique and worth a playthrough.   \n",
      "2       43110      True  Great atmosphere. The gunplay can be a bit chu...   \n",
      "3      251610      True  I know what you think when you see this title ...   \n",
      "4      227300      True  For a simple (it's actually not all that simpl...   \n",
      "...       ...       ...                                                ...   \n",
      "59300      70      True  a must have classic from steam definitely wort...   \n",
      "59301  362890      True  this game is a perfect remake of the original ...   \n",
      "59302  273110      True  had so much fun plaing this and collecting res...   \n",
      "59303     730      True                                                 :D   \n",
      "59304     440      True                                     so much fun :D   \n",
      "\n",
      "                 user_id     posted  \n",
      "0      76561197970982479 2011-11-05  \n",
      "1      76561197970982479 2011-07-15  \n",
      "2      76561197970982479 2011-04-21  \n",
      "3                js41637 2014-06-24  \n",
      "4                js41637 2013-09-08  \n",
      "...                  ...        ...  \n",
      "59300  76561198312638244 2000-07-10  \n",
      "59301  76561198312638244 2000-07-08  \n",
      "59302        LydiaMorley 2000-07-03  \n",
      "59303        LydiaMorley 2000-07-20  \n",
      "59304        LydiaMorley 2000-07-02  \n",
      "\n",
      "[59305 rows x 5 columns]\n"
     ]
    }
   ],
   "source": [
    "# Seleccionar las columnas de interés\n",
    "selected_columns = ['item_id', 'recommend', 'review', 'user_id', 'posted']\t\n",
    "\n",
    "# Crear un nuevo DataFrame que contenga solo las columnas seleccionadas\n",
    "df_selected_columns = df_user_expanded[selected_columns]\n",
    "\n",
    "# Imprimir el nuevo DataFrame con las columnas seleccionadas\n",
    "print(df_selected_columns)"
   ]
  },
  {
   "cell_type": "markdown",
   "metadata": {},
   "source": [
    "Buscar y eliminar filas duplicadas\n"
   ]
  },
  {
   "cell_type": "code",
   "execution_count": 17,
   "metadata": {},
   "outputs": [
    {
     "name": "stdout",
     "output_type": "stream",
     "text": [
      "<class 'pandas.core.frame.DataFrame'>\n",
      "RangeIndex: 59305 entries, 0 to 59304\n",
      "Data columns (total 5 columns):\n",
      " #   Column     Non-Null Count  Dtype         \n",
      "---  ------     --------------  -----         \n",
      " 0   item_id    59305 non-null  object        \n",
      " 1   recommend  59305 non-null  object        \n",
      " 2   review     59305 non-null  object        \n",
      " 3   user_id    59305 non-null  object        \n",
      " 4   posted     59280 non-null  datetime64[ns]\n",
      "dtypes: datetime64[ns](1), object(4)\n",
      "memory usage: 2.3+ MB\n"
     ]
    }
   ],
   "source": [
    "# Eliminar filas duplicadas considerando todas las columnas\n",
    "df_selected_columns.drop_duplicates()\n",
    "\n",
    "# Imprimir la información del DataFrame resultant\n",
    "df_selected_columns.info()\n"
   ]
  },
  {
   "cell_type": "markdown",
   "metadata": {},
   "source": [
    "Revisamos la columna item_id"
   ]
  },
  {
   "cell_type": "code",
   "execution_count": 18,
   "metadata": {},
   "outputs": [
    {
     "name": "stdout",
     "output_type": "stream",
     "text": [
      "La columna 'item_id' contiene valores de tipo string.\n"
     ]
    }
   ],
   "source": [
    "# Verificar si los valores en la columna \"item_id\" son de tipo string\n",
    "is_string_column = df_selected_columns['item_id'].apply(lambda x: isinstance(x, str)).all()\n",
    "\n",
    "# Imprimir el resultado\n",
    "if is_string_column:\n",
    "    print(\"La columna 'item_id' contiene valores de tipo string.\")\n",
    "else:\n",
    "    print(\"La columna 'item_id' no contiene exclusivamente valores de tipo string.\")\n",
    "\n"
   ]
  },
  {
   "cell_type": "markdown",
   "metadata": {},
   "source": [
    "Esto reemplazará todos los \"True\" por 1 y todos los \"False\" por 0 en la columna \"recommend\" del DataFrame "
   ]
  },
  {
   "cell_type": "code",
   "execution_count": 19,
   "metadata": {},
   "outputs": [
    {
     "name": "stderr",
     "output_type": "stream",
     "text": [
      "C:\\Users\\Daniel\\AppData\\Local\\Temp\\ipykernel_1880\\906822293.py:1: SettingWithCopyWarning: \n",
      "A value is trying to be set on a copy of a slice from a DataFrame.\n",
      "Try using .loc[row_indexer,col_indexer] = value instead\n",
      "\n",
      "See the caveats in the documentation: https://pandas.pydata.org/pandas-docs/stable/user_guide/indexing.html#returning-a-view-versus-a-copy\n",
      "  df_selected_columns['recommend'] = df_selected_columns['recommend'].replace({True: 1, False: 0})\n"
     ]
    }
   ],
   "source": [
    "df_selected_columns['recommend'] = df_selected_columns['recommend'].replace({True: 1, False: 0})\n"
   ]
  },
  {
   "cell_type": "markdown",
   "metadata": {},
   "source": [
    "Cambiamos el tipo de datos de la columna recomend a int"
   ]
  },
  {
   "cell_type": "code",
   "execution_count": 20,
   "metadata": {},
   "outputs": [
    {
     "name": "stderr",
     "output_type": "stream",
     "text": [
      "C:\\Users\\Daniel\\AppData\\Local\\Temp\\ipykernel_1880\\127672820.py:1: SettingWithCopyWarning: \n",
      "A value is trying to be set on a copy of a slice from a DataFrame.\n",
      "Try using .loc[row_indexer,col_indexer] = value instead\n",
      "\n",
      "See the caveats in the documentation: https://pandas.pydata.org/pandas-docs/stable/user_guide/indexing.html#returning-a-view-versus-a-copy\n",
      "  df_selected_columns['recommend'] = df_selected_columns['recommend'].astype(int)\n"
     ]
    }
   ],
   "source": [
    "df_selected_columns['recommend'] = df_selected_columns['recommend'].astype(int)\n"
   ]
  },
  {
   "cell_type": "code",
   "execution_count": 21,
   "metadata": {},
   "outputs": [
    {
     "name": "stdout",
     "output_type": "stream",
     "text": [
      "      item_id  recommend                                             review  \\\n",
      "0        1250          1  Simple yet with great replayability. In my opi...   \n",
      "1       22200          1               It's unique and worth a playthrough.   \n",
      "2       43110          1  Great atmosphere. The gunplay can be a bit chu...   \n",
      "3      251610          1  I know what you think when you see this title ...   \n",
      "4      227300          1  For a simple (it's actually not all that simpl...   \n",
      "...       ...        ...                                                ...   \n",
      "59300      70          1  a must have classic from steam definitely wort...   \n",
      "59301  362890          1  this game is a perfect remake of the original ...   \n",
      "59302  273110          1  had so much fun plaing this and collecting res...   \n",
      "59303     730          1                                                 :D   \n",
      "59304     440          1                                     so much fun :D   \n",
      "\n",
      "                 user_id     posted  \n",
      "0      76561197970982479 2011-11-05  \n",
      "1      76561197970982479 2011-07-15  \n",
      "2      76561197970982479 2011-04-21  \n",
      "3                js41637 2014-06-24  \n",
      "4                js41637 2013-09-08  \n",
      "...                  ...        ...  \n",
      "59300  76561198312638244 2000-07-10  \n",
      "59301  76561198312638244 2000-07-08  \n",
      "59302        LydiaMorley 2000-07-03  \n",
      "59303        LydiaMorley 2000-07-20  \n",
      "59304        LydiaMorley 2000-07-02  \n",
      "\n",
      "[59305 rows x 5 columns]\n"
     ]
    }
   ],
   "source": [
    "# Seleccionar las columnas de interés\n",
    "selected_columns = ['item_id', 'recommend', 'review', 'user_id', 'posted']\n",
    "\n",
    "# Crear el nuevo DataFrame 'df_reviews' con las columnas seleccionadas\n",
    "df_selected_columns[selected_columns].copy()\n",
    "\n",
    "# Imprimir el nuevo DataFrame 'df_reviews'\n",
    "print(df_selected_columns)"
   ]
  },
  {
   "cell_type": "code",
   "execution_count": 22,
   "metadata": {},
   "outputs": [
    {
     "data": {
      "text/html": [
       "<div>\n",
       "<style scoped>\n",
       "    .dataframe tbody tr th:only-of-type {\n",
       "        vertical-align: middle;\n",
       "    }\n",
       "\n",
       "    .dataframe tbody tr th {\n",
       "        vertical-align: top;\n",
       "    }\n",
       "\n",
       "    .dataframe thead th {\n",
       "        text-align: right;\n",
       "    }\n",
       "</style>\n",
       "<table border=\"1\" class=\"dataframe\">\n",
       "  <thead>\n",
       "    <tr style=\"text-align: right;\">\n",
       "      <th></th>\n",
       "      <th>item_id</th>\n",
       "      <th>recommend</th>\n",
       "      <th>review</th>\n",
       "      <th>user_id</th>\n",
       "      <th>posted</th>\n",
       "    </tr>\n",
       "  </thead>\n",
       "  <tbody>\n",
       "    <tr>\n",
       "      <th>0</th>\n",
       "      <td>1250</td>\n",
       "      <td>1</td>\n",
       "      <td>Simple yet with great replayability. In my opi...</td>\n",
       "      <td>76561197970982479</td>\n",
       "      <td>2011-11-05</td>\n",
       "    </tr>\n",
       "    <tr>\n",
       "      <th>1</th>\n",
       "      <td>22200</td>\n",
       "      <td>1</td>\n",
       "      <td>It's unique and worth a playthrough.</td>\n",
       "      <td>76561197970982479</td>\n",
       "      <td>2011-07-15</td>\n",
       "    </tr>\n",
       "    <tr>\n",
       "      <th>2</th>\n",
       "      <td>43110</td>\n",
       "      <td>1</td>\n",
       "      <td>Great atmosphere. The gunplay can be a bit chu...</td>\n",
       "      <td>76561197970982479</td>\n",
       "      <td>2011-04-21</td>\n",
       "    </tr>\n",
       "    <tr>\n",
       "      <th>3</th>\n",
       "      <td>251610</td>\n",
       "      <td>1</td>\n",
       "      <td>I know what you think when you see this title ...</td>\n",
       "      <td>js41637</td>\n",
       "      <td>2014-06-24</td>\n",
       "    </tr>\n",
       "    <tr>\n",
       "      <th>4</th>\n",
       "      <td>227300</td>\n",
       "      <td>1</td>\n",
       "      <td>For a simple (it's actually not all that simpl...</td>\n",
       "      <td>js41637</td>\n",
       "      <td>2013-09-08</td>\n",
       "    </tr>\n",
       "    <tr>\n",
       "      <th>...</th>\n",
       "      <td>...</td>\n",
       "      <td>...</td>\n",
       "      <td>...</td>\n",
       "      <td>...</td>\n",
       "      <td>...</td>\n",
       "    </tr>\n",
       "    <tr>\n",
       "      <th>59300</th>\n",
       "      <td>70</td>\n",
       "      <td>1</td>\n",
       "      <td>a must have classic from steam definitely wort...</td>\n",
       "      <td>76561198312638244</td>\n",
       "      <td>2000-07-10</td>\n",
       "    </tr>\n",
       "    <tr>\n",
       "      <th>59301</th>\n",
       "      <td>362890</td>\n",
       "      <td>1</td>\n",
       "      <td>this game is a perfect remake of the original ...</td>\n",
       "      <td>76561198312638244</td>\n",
       "      <td>2000-07-08</td>\n",
       "    </tr>\n",
       "    <tr>\n",
       "      <th>59302</th>\n",
       "      <td>273110</td>\n",
       "      <td>1</td>\n",
       "      <td>had so much fun plaing this and collecting res...</td>\n",
       "      <td>LydiaMorley</td>\n",
       "      <td>2000-07-03</td>\n",
       "    </tr>\n",
       "    <tr>\n",
       "      <th>59303</th>\n",
       "      <td>730</td>\n",
       "      <td>1</td>\n",
       "      <td>:D</td>\n",
       "      <td>LydiaMorley</td>\n",
       "      <td>2000-07-20</td>\n",
       "    </tr>\n",
       "    <tr>\n",
       "      <th>59304</th>\n",
       "      <td>440</td>\n",
       "      <td>1</td>\n",
       "      <td>so much fun :D</td>\n",
       "      <td>LydiaMorley</td>\n",
       "      <td>2000-07-02</td>\n",
       "    </tr>\n",
       "  </tbody>\n",
       "</table>\n",
       "<p>59305 rows × 5 columns</p>\n",
       "</div>"
      ],
      "text/plain": [
       "      item_id  recommend                                             review  \\\n",
       "0        1250          1  Simple yet with great replayability. In my opi...   \n",
       "1       22200          1               It's unique and worth a playthrough.   \n",
       "2       43110          1  Great atmosphere. The gunplay can be a bit chu...   \n",
       "3      251610          1  I know what you think when you see this title ...   \n",
       "4      227300          1  For a simple (it's actually not all that simpl...   \n",
       "...       ...        ...                                                ...   \n",
       "59300      70          1  a must have classic from steam definitely wort...   \n",
       "59301  362890          1  this game is a perfect remake of the original ...   \n",
       "59302  273110          1  had so much fun plaing this and collecting res...   \n",
       "59303     730          1                                                 :D   \n",
       "59304     440          1                                     so much fun :D   \n",
       "\n",
       "                 user_id     posted  \n",
       "0      76561197970982479 2011-11-05  \n",
       "1      76561197970982479 2011-07-15  \n",
       "2      76561197970982479 2011-04-21  \n",
       "3                js41637 2014-06-24  \n",
       "4                js41637 2013-09-08  \n",
       "...                  ...        ...  \n",
       "59300  76561198312638244 2000-07-10  \n",
       "59301  76561198312638244 2000-07-08  \n",
       "59302        LydiaMorley 2000-07-03  \n",
       "59303        LydiaMorley 2000-07-20  \n",
       "59304        LydiaMorley 2000-07-02  \n",
       "\n",
       "[59305 rows x 5 columns]"
      ]
     },
     "execution_count": 22,
     "metadata": {},
     "output_type": "execute_result"
    }
   ],
   "source": [
    "df_selected_columns"
   ]
  },
  {
   "cell_type": "markdown",
   "metadata": {},
   "source": [
    "Guardar df_reviews en un archivo .pkl"
   ]
  },
  {
   "cell_type": "code",
   "execution_count": 23,
   "metadata": {},
   "outputs": [],
   "source": [
    "df_selected_columns.to_pickle('reviews.pkl')\n",
    "\n",
    "# Esto guardará el DataFrame df_games en un archivo llamado \"df_games.pkl\" en el directorio actual.\n"
   ]
  },
  {
   "cell_type": "code",
   "execution_count": 24,
   "metadata": {},
   "outputs": [
    {
     "name": "stdout",
     "output_type": "stream",
     "text": [
      "<class 'pandas.core.frame.DataFrame'>\n",
      "RangeIndex: 59305 entries, 0 to 59304\n",
      "Data columns (total 5 columns):\n",
      " #   Column     Non-Null Count  Dtype         \n",
      "---  ------     --------------  -----         \n",
      " 0   item_id    59305 non-null  object        \n",
      " 1   recommend  59305 non-null  int32         \n",
      " 2   review     59305 non-null  object        \n",
      " 3   user_id    59305 non-null  object        \n",
      " 4   posted     59280 non-null  datetime64[ns]\n",
      "dtypes: datetime64[ns](1), int32(1), object(3)\n",
      "memory usage: 2.0+ MB\n"
     ]
    }
   ],
   "source": [
    "df_selected_columns.info()"
   ]
  },
  {
   "cell_type": "code",
   "execution_count": 10,
   "metadata": {},
   "outputs": [],
   "source": [
    "# Función de analisis de sentimiento:\n",
    "\n",
    "def detect_sentiment(text):\n",
    "   analysis = TextBlob(text)\n",
    "   if analysis.sentiment.polarity < 0:\n",
    "      return 0 #negative\n",
    "   elif analysis.sentiment.polarity == 0:\n",
    "      return 1 #neutral\n",
    "   else:\n",
    "      return 2 #positive"
   ]
  },
  {
   "cell_type": "markdown",
   "metadata": {},
   "source": [
    "Funcion analisis de sentimiento"
   ]
  },
  {
   "cell_type": "code",
   "execution_count": null,
   "metadata": {},
   "outputs": [],
   "source": [
    "import nltk\n",
    "from nltk.sentiment.vader import SentimentIntensityAnalyzer\n",
    "import pandas as pd\n",
    "\n",
    "nltk.download('vader_lexicon')\n",
    "\n",
    "# Inicializa el analizador de sentimiento\n",
    "sia = SentimentIntensityAnalyzer()\n",
    "\n",
    "# Función para asignar etiquetas de sentimiento a valores numéricos\n",
    "def get_sentiment_label(sentiment_score):\n",
    "    if sentiment_score >= 0.05:\n",
    "        return 2  # Positivo\n",
    "    elif sentiment_score <= -0.05:\n",
    "        return 0  # Malo\n",
    "    else:\n",
    "        return 1  # Neutral\n",
    "\n",
    "# Función para analizar sentimiento y asignar etiquetas numéricas\n",
    "def analyze_sentiment(text):\n",
    "    sentiment_score = sia.polarity_scores(text)['compound']\n",
    "    sentiment_label = get_sentiment_label(sentiment_score)\n",
    "    return sentiment_label\n",
    "\n",
    "# Aplica el análisis de sentimiento a la columna de reseñas y crea una nueva columna\n",
    "df_user_expanded['sentiment_analysis'] = df_user_expanded['review'].apply(analyze_sentiment)"
   ]
  }
 ],
 "metadata": {
  "kernelspec": {
   "display_name": "venv",
   "language": "python",
   "name": "python3"
  },
  "language_info": {
   "codemirror_mode": {
    "name": "ipython",
    "version": 3
   },
   "file_extension": ".py",
   "mimetype": "text/x-python",
   "name": "python",
   "nbconvert_exporter": "python",
   "pygments_lexer": "ipython3",
   "version": "3.10.11"
  },
  "orig_nbformat": 4
 },
 "nbformat": 4,
 "nbformat_minor": 2
}
